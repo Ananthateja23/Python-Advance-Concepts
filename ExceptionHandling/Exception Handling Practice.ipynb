{
 "cells": [
  {
   "cell_type": "markdown",
   "id": "fc885c91-85f0-4aa4-b5f7-306a5ee7dd23",
   "metadata": {},
   "source": [
    "```\n",
    "There are two stages where error may happen in a program\n",
    "\n",
    "(1) During compilation ==> Syntax error\n",
    "\n",
    "(2) During execution   ==> Exceptions\n",
    "```"
   ]
  },
  {
   "cell_type": "markdown",
   "id": "d3a6d561-5a0d-49b9-abd5-edef369ac9b7",
   "metadata": {},
   "source": [
    "```\n",
    "syntax error:\n",
    "-------------\n",
    "\n",
    "==> something in the program is not written according to the program grammar\n",
    "\n",
    "==> error is raised by the interpreter or compiler\n",
    "\n",
    "==> we can solve it by rectifying the program\n",
    "```"
   ]
  },
  {
   "cell_type": "code",
   "execution_count": 1,
   "id": "6f030422-eb60-449a-a870-eb01b647959d",
   "metadata": {},
   "outputs": [
    {
     "ename": "SyntaxError",
     "evalue": "Missing parentheses in call to 'print'. Did you mean print(...)? (3380975710.py, line 1)",
     "output_type": "error",
     "traceback": [
      "\u001b[1;36m  Cell \u001b[1;32mIn[1], line 1\u001b[1;36m\u001b[0m\n\u001b[1;33m    print \"Hello python\"\u001b[0m\n\u001b[1;37m    ^\u001b[0m\n\u001b[1;31mSyntaxError\u001b[0m\u001b[1;31m:\u001b[0m Missing parentheses in call to 'print'. Did you mean print(...)?\n"
     ]
    }
   ],
   "source": [
    "print \"Hello python\""
   ]
  },
  {
   "cell_type": "markdown",
   "id": "71fb8418-76d1-402e-a612-6c934e0087e9",
   "metadata": {},
   "source": [
    "```\n",
    "some examples of syntax error:\n",
    "------------------------------\n",
    "\n",
    "==> leaving symbols like colons, brackets\n",
    "\n",
    "==> misspelling a keyword\n",
    "\n",
    "==> incorrect indentation\n",
    "\n",
    "==> empty if/else/loops/class/functions\n",
    "```"
   ]
  },
  {
   "cell_type": "code",
   "execution_count": 2,
   "id": "a85eb2f5-b1b6-421f-b7c4-e3a29f333c93",
   "metadata": {},
   "outputs": [
    {
     "ename": "SyntaxError",
     "evalue": "expected ':' (2091874198.py, line 3)",
     "output_type": "error",
     "traceback": [
      "\u001b[1;36m  Cell \u001b[1;32mIn[2], line 3\u001b[1;36m\u001b[0m\n\u001b[1;33m    if a == 3\u001b[0m\n\u001b[1;37m             ^\u001b[0m\n\u001b[1;31mSyntaxError\u001b[0m\u001b[1;31m:\u001b[0m expected ':'\n"
     ]
    }
   ],
   "source": [
    "a = 5\n",
    "\n",
    "if a == 3\n",
    "    print(\"Hello python\")"
   ]
  },
  {
   "cell_type": "code",
   "execution_count": 3,
   "id": "9f6337b6-5e85-40d7-b7bb-c8242924fb55",
   "metadata": {},
   "outputs": [
    {
     "ename": "SyntaxError",
     "evalue": "invalid syntax (4080992982.py, line 3)",
     "output_type": "error",
     "traceback": [
      "\u001b[1;36m  Cell \u001b[1;32mIn[3], line 3\u001b[1;36m\u001b[0m\n\u001b[1;33m    iff a == 3:\u001b[0m\n\u001b[1;37m        ^\u001b[0m\n\u001b[1;31mSyntaxError\u001b[0m\u001b[1;31m:\u001b[0m invalid syntax\n"
     ]
    }
   ],
   "source": [
    "a = 5\n",
    "\n",
    "iff a == 3:\n",
    "    print(\"Hello python\")"
   ]
  },
  {
   "cell_type": "code",
   "execution_count": 4,
   "id": "7c60abaa-bf43-40d0-954b-8ce996ea5847",
   "metadata": {},
   "outputs": [
    {
     "ename": "IndentationError",
     "evalue": "expected an indented block after 'if' statement on line 3 (4138776795.py, line 4)",
     "output_type": "error",
     "traceback": [
      "\u001b[1;36m  Cell \u001b[1;32mIn[4], line 4\u001b[1;36m\u001b[0m\n\u001b[1;33m    print(\"Hello python\")\u001b[0m\n\u001b[1;37m    ^\u001b[0m\n\u001b[1;31mIndentationError\u001b[0m\u001b[1;31m:\u001b[0m expected an indented block after 'if' statement on line 3\n"
     ]
    }
   ],
   "source": [
    "a = 5\n",
    "\n",
    "if a == 3:\n",
    "print(\"Hello python\")"
   ]
  },
  {
   "cell_type": "markdown",
   "id": "73aec3cd-0c36-49c1-884a-0a1437524e1e",
   "metadata": {},
   "source": [
    "```\n",
    "\n",
    "other types of errors:\n",
    "-----------------------\n",
    "\n",
    "(1) IndexError: The IndexError is thrown when we trying to access an item at an invalid index\n",
    "```"
   ]
  },
  {
   "cell_type": "code",
   "execution_count": 5,
   "id": "bf547840-b0f8-4268-95ae-ccb39c02f629",
   "metadata": {},
   "outputs": [
    {
     "ename": "IndexError",
     "evalue": "list index out of range",
     "output_type": "error",
     "traceback": [
      "\u001b[1;31m---------------------------------------------------------------------------\u001b[0m",
      "\u001b[1;31mIndexError\u001b[0m                                Traceback (most recent call last)",
      "Cell \u001b[1;32mIn[5], line 2\u001b[0m\n\u001b[0;32m      1\u001b[0m l \u001b[38;5;241m=\u001b[39m [\u001b[38;5;241m100\u001b[39m, \u001b[38;5;241m200\u001b[39m, \u001b[38;5;241m300\u001b[39m]\n\u001b[1;32m----> 2\u001b[0m l[\u001b[38;5;241m100\u001b[39m]\n",
      "\u001b[1;31mIndexError\u001b[0m: list index out of range"
     ]
    }
   ],
   "source": [
    "l = [100, 200, 300]\n",
    "l[100]"
   ]
  },
  {
   "cell_type": "markdown",
   "id": "bc950c5e-114c-4022-af0d-e7848f722f15",
   "metadata": {},
   "source": [
    "```\n",
    "(2) ModuleNotFoundError: It is thrown when a module could not be found\n",
    "```"
   ]
  },
  {
   "cell_type": "code",
   "execution_count": 6,
   "id": "38dd2848-1b46-44b8-b56a-ad57a3c509db",
   "metadata": {},
   "outputs": [
    {
     "ename": "ModuleNotFoundError",
     "evalue": "No module named 'mathi'",
     "output_type": "error",
     "traceback": [
      "\u001b[1;31m---------------------------------------------------------------------------\u001b[0m",
      "\u001b[1;31mModuleNotFoundError\u001b[0m                       Traceback (most recent call last)",
      "Cell \u001b[1;32mIn[6], line 1\u001b[0m\n\u001b[1;32m----> 1\u001b[0m \u001b[38;5;28;01mimport\u001b[39;00m \u001b[38;5;21;01mmathi\u001b[39;00m\n\u001b[0;32m      2\u001b[0m mathi\u001b[38;5;241m.\u001b[39msqrt(\u001b[38;5;241m4\u001b[39m)\n",
      "\u001b[1;31mModuleNotFoundError\u001b[0m: No module named 'mathi'"
     ]
    }
   ],
   "source": [
    "import mathi\n",
    "mathi.sqrt(4)"
   ]
  },
  {
   "cell_type": "markdown",
   "id": "e2f1e454-755e-48c4-a4f1-669fda7e45fe",
   "metadata": {},
   "source": [
    "```\n",
    "(3) KeyError: It is thrown when a key is not found\n",
    "```"
   ]
  },
  {
   "cell_type": "code",
   "execution_count": 7,
   "id": "ab6ca22c-0eaa-4d26-b0f5-e4ef3177f575",
   "metadata": {},
   "outputs": [
    {
     "ename": "KeyError",
     "evalue": "'age'",
     "output_type": "error",
     "traceback": [
      "\u001b[1;31m---------------------------------------------------------------------------\u001b[0m",
      "\u001b[1;31mKeyError\u001b[0m                                  Traceback (most recent call last)",
      "Cell \u001b[1;32mIn[7], line 2\u001b[0m\n\u001b[0;32m      1\u001b[0m d \u001b[38;5;241m=\u001b[39m {\u001b[38;5;124m'\u001b[39m\u001b[38;5;124mname\u001b[39m\u001b[38;5;124m'\u001b[39m : \u001b[38;5;124m\"\u001b[39m\u001b[38;5;124mAnanth\u001b[39m\u001b[38;5;124m\"\u001b[39m}\n\u001b[1;32m----> 2\u001b[0m d[\u001b[38;5;124m\"\u001b[39m\u001b[38;5;124mage\u001b[39m\u001b[38;5;124m\"\u001b[39m]\n",
      "\u001b[1;31mKeyError\u001b[0m: 'age'"
     ]
    }
   ],
   "source": [
    "d = {'name' : \"Ananth\"}\n",
    "d[\"age\"]"
   ]
  },
  {
   "cell_type": "markdown",
   "id": "bdecfd12-eb34-4028-8722-f0b6ac1b0d3e",
   "metadata": {},
   "source": [
    "```\n",
    "(4) TypeError: It is thrown when a operation or function is applied to an object of an inappropriate type\n",
    "```"
   ]
  },
  {
   "cell_type": "code",
   "execution_count": 8,
   "id": "c176364d-30da-42b7-ab46-1c9080fde330",
   "metadata": {},
   "outputs": [
    {
     "ename": "TypeError",
     "evalue": "unsupported operand type(s) for +: 'int' and 'str'",
     "output_type": "error",
     "traceback": [
      "\u001b[1;31m---------------------------------------------------------------------------\u001b[0m",
      "\u001b[1;31mTypeError\u001b[0m                                 Traceback (most recent call last)",
      "Cell \u001b[1;32mIn[8], line 1\u001b[0m\n\u001b[1;32m----> 1\u001b[0m \u001b[38;5;241m2\u001b[39m \u001b[38;5;241m+\u001b[39m \u001b[38;5;124m'\u001b[39m\u001b[38;5;124m3\u001b[39m\u001b[38;5;124m'\u001b[39m\n",
      "\u001b[1;31mTypeError\u001b[0m: unsupported operand type(s) for +: 'int' and 'str'"
     ]
    }
   ],
   "source": [
    "2 + '3'"
   ]
  },
  {
   "cell_type": "markdown",
   "id": "4705e01d-887a-44d0-998d-585843d0cb9b",
   "metadata": {},
   "source": [
    "```\n",
    "(5) ValueError: It is thrown when a function's argument is of an inappropriate type\n",
    "```"
   ]
  },
  {
   "cell_type": "code",
   "execution_count": 9,
   "id": "59a83c8b-9cda-4984-b148-695d5f9e7b41",
   "metadata": {},
   "outputs": [
    {
     "ename": "ValueError",
     "evalue": "invalid literal for int() with base 10: '10.5'",
     "output_type": "error",
     "traceback": [
      "\u001b[1;31m---------------------------------------------------------------------------\u001b[0m",
      "\u001b[1;31mValueError\u001b[0m                                Traceback (most recent call last)",
      "Cell \u001b[1;32mIn[9], line 1\u001b[0m\n\u001b[1;32m----> 1\u001b[0m \u001b[38;5;28mint\u001b[39m(\u001b[38;5;124m'\u001b[39m\u001b[38;5;124m10.5\u001b[39m\u001b[38;5;124m'\u001b[39m)\n",
      "\u001b[1;31mValueError\u001b[0m: invalid literal for int() with base 10: '10.5'"
     ]
    }
   ],
   "source": [
    "int('10.5')"
   ]
  },
  {
   "cell_type": "markdown",
   "id": "e7836927-2b1f-4830-bd86-345400aeaa7f",
   "metadata": {},
   "source": [
    "```\n",
    "(6) NameError: It is thrown when an object could not be found\n",
    "```"
   ]
  },
  {
   "cell_type": "code",
   "execution_count": 10,
   "id": "13343500-31b0-4772-8c6a-7cb6ea30403d",
   "metadata": {},
   "outputs": [
    {
     "ename": "NameError",
     "evalue": "name 'k' is not defined",
     "output_type": "error",
     "traceback": [
      "\u001b[1;31m---------------------------------------------------------------------------\u001b[0m",
      "\u001b[1;31mNameError\u001b[0m                                 Traceback (most recent call last)",
      "Cell \u001b[1;32mIn[10], line 1\u001b[0m\n\u001b[1;32m----> 1\u001b[0m \u001b[38;5;28mprint\u001b[39m(k)\n",
      "\u001b[1;31mNameError\u001b[0m: name 'k' is not defined"
     ]
    }
   ],
   "source": [
    "print(k)"
   ]
  },
  {
   "cell_type": "markdown",
   "id": "6cdb2398-8ce9-4110-9bf3-b51ad8de4cd2",
   "metadata": {},
   "source": [
    "```\n",
    "(7)  AttributeError:It is thrown when an attribute or method not belongs to class or object\n",
    "```"
   ]
  },
  {
   "cell_type": "code",
   "execution_count": 11,
   "id": "c4eca7d6-a4a5-499c-a8d6-8b0d8a1cfa5f",
   "metadata": {},
   "outputs": [
    {
     "ename": "AttributeError",
     "evalue": "'list' object has no attribute 'upper'",
     "output_type": "error",
     "traceback": [
      "\u001b[1;31m---------------------------------------------------------------------------\u001b[0m",
      "\u001b[1;31mAttributeError\u001b[0m                            Traceback (most recent call last)",
      "Cell \u001b[1;32mIn[11], line 2\u001b[0m\n\u001b[0;32m      1\u001b[0m L \u001b[38;5;241m=\u001b[39m [\u001b[38;5;241m1\u001b[39m, \u001b[38;5;241m2\u001b[39m, \u001b[38;5;241m3\u001b[39m]\n\u001b[1;32m----> 2\u001b[0m L\u001b[38;5;241m.\u001b[39mupper()\n",
      "\u001b[1;31mAttributeError\u001b[0m: 'list' object has no attribute 'upper'"
     ]
    }
   ],
   "source": [
    "L = [1, 2, 3]\n",
    "L.upper()"
   ]
  },
  {
   "cell_type": "markdown",
   "id": "82ce0a24-4014-4c31-bf2c-ba7c0f6f7773",
   "metadata": {},
   "source": [
    "```\n",
    "Exceptions:\n",
    "-----------\n",
    "\n",
    "==> If things go wrong during the execution of the program(runtime). It generally happens when something unforeseen has happened.\n",
    "\n",
    "==> Exceptions are raised by the python runtime\n",
    "    \n",
    "==> you have to takle is on the fly\n",
    "\n",
    "==> In exceptions, there is no problem at coding side, but we have to dynamically write a piece of code that handles exceptions.\n",
    "\n",
    "Examples: \n",
    "---------\n",
    "\n",
    "==> Memory overflow\n",
    "==> Divide by zero / logical error\n",
    "==> Database error\n",
    "\n",
    "questions:\n",
    "----------\n",
    "(1) why is it important to handle exceptions\n",
    "\n",
    "==> There are two reasons for handling the exceptions\n",
    "==> User experience\n",
    "==> Security\n",
    "\n",
    "\n",
    "(2) how to handle exceptions and what do we write inside try and except block\n",
    "\n",
    "==> try: inside try, we write a code that might occur exception\n",
    "    \n",
    "==> except: inside except, we write a code that tells what should be done after exception\n",
    "```"
   ]
  },
  {
   "cell_type": "code",
   "execution_count": 12,
   "id": "ab89b285-2c1e-446e-9ef0-afdf4eec9b57",
   "metadata": {},
   "outputs": [],
   "source": [
    "with open(\"sample.txt\", \"w\") as f:\n",
    "    f.write(\"Hello python\")"
   ]
  },
  {
   "cell_type": "code",
   "execution_count": 13,
   "id": "5857c6ed-ff9e-462c-9ae2-e87679ad8f67",
   "metadata": {},
   "outputs": [
    {
     "name": "stdout",
     "output_type": "stream",
     "text": [
      "Hello python\n"
     ]
    }
   ],
   "source": [
    "with open(\"sample.txt\", \"r\") as f:\n",
    "    print(f.read())"
   ]
  },
  {
   "cell_type": "code",
   "execution_count": 14,
   "id": "4242f11e-f9b4-4289-92ca-f3452ff8e731",
   "metadata": {},
   "outputs": [
    {
     "ename": "FileNotFoundError",
     "evalue": "[Errno 2] No such file or directory: 'sample1.txt'",
     "output_type": "error",
     "traceback": [
      "\u001b[1;31m---------------------------------------------------------------------------\u001b[0m",
      "\u001b[1;31mFileNotFoundError\u001b[0m                         Traceback (most recent call last)",
      "Cell \u001b[1;32mIn[14], line 1\u001b[0m\n\u001b[1;32m----> 1\u001b[0m \u001b[38;5;28;01mwith\u001b[39;00m \u001b[38;5;28mopen\u001b[39m(\u001b[38;5;124m\"\u001b[39m\u001b[38;5;124msample1.txt\u001b[39m\u001b[38;5;124m\"\u001b[39m, \u001b[38;5;124m\"\u001b[39m\u001b[38;5;124mr\u001b[39m\u001b[38;5;124m\"\u001b[39m) \u001b[38;5;28;01mas\u001b[39;00m f:\n\u001b[0;32m      2\u001b[0m     \u001b[38;5;28mprint\u001b[39m(f\u001b[38;5;241m.\u001b[39mread())\n",
      "File \u001b[1;32m~\\anaconda3\\Lib\\site-packages\\IPython\\core\\interactiveshell.py:310\u001b[0m, in \u001b[0;36m_modified_open\u001b[1;34m(file, *args, **kwargs)\u001b[0m\n\u001b[0;32m    303\u001b[0m \u001b[38;5;28;01mif\u001b[39;00m file \u001b[38;5;129;01min\u001b[39;00m {\u001b[38;5;241m0\u001b[39m, \u001b[38;5;241m1\u001b[39m, \u001b[38;5;241m2\u001b[39m}:\n\u001b[0;32m    304\u001b[0m     \u001b[38;5;28;01mraise\u001b[39;00m \u001b[38;5;167;01mValueError\u001b[39;00m(\n\u001b[0;32m    305\u001b[0m         \u001b[38;5;124mf\u001b[39m\u001b[38;5;124m\"\u001b[39m\u001b[38;5;124mIPython won\u001b[39m\u001b[38;5;124m'\u001b[39m\u001b[38;5;124mt let you open fd=\u001b[39m\u001b[38;5;132;01m{\u001b[39;00mfile\u001b[38;5;132;01m}\u001b[39;00m\u001b[38;5;124m by default \u001b[39m\u001b[38;5;124m\"\u001b[39m\n\u001b[0;32m    306\u001b[0m         \u001b[38;5;124m\"\u001b[39m\u001b[38;5;124mas it is likely to crash IPython. If you know what you are doing, \u001b[39m\u001b[38;5;124m\"\u001b[39m\n\u001b[0;32m    307\u001b[0m         \u001b[38;5;124m\"\u001b[39m\u001b[38;5;124myou can use builtins\u001b[39m\u001b[38;5;124m'\u001b[39m\u001b[38;5;124m open.\u001b[39m\u001b[38;5;124m\"\u001b[39m\n\u001b[0;32m    308\u001b[0m     )\n\u001b[1;32m--> 310\u001b[0m \u001b[38;5;28;01mreturn\u001b[39;00m io_open(file, \u001b[38;5;241m*\u001b[39margs, \u001b[38;5;241m*\u001b[39m\u001b[38;5;241m*\u001b[39mkwargs)\n",
      "\u001b[1;31mFileNotFoundError\u001b[0m: [Errno 2] No such file or directory: 'sample1.txt'"
     ]
    }
   ],
   "source": [
    "with open(\"sample1.txt\", \"r\") as f:\n",
    "    print(f.read())"
   ]
  },
  {
   "cell_type": "code",
   "execution_count": 16,
   "id": "4d37b855-032d-4c01-8fde-02e8de341d83",
   "metadata": {},
   "outputs": [
    {
     "name": "stdout",
     "output_type": "stream",
     "text": [
      "sorry file not found\n"
     ]
    }
   ],
   "source": [
    "try:\n",
    "    with open(\"sample1.txt\", \"r\") as f:\n",
    "        print(f.read())\n",
    "except:\n",
    "    print(\"sorry file not found\")"
   ]
  },
  {
   "cell_type": "markdown",
   "id": "4566512d-2359-4b5d-a04b-fdfbfcabfec4",
   "metadata": {},
   "source": [
    "```\n",
    "Important Points:\n",
    "-----------------\n",
    "\n",
    "==> It is not necessary that our program always had a single exception. \n",
    "\n",
    "==> It is not a good practice to tell always same sort of error for every exception that occurred from try block\n",
    "\n",
    "==> Inside our program, we write multiple lines of code those might provide different exception\n",
    "    \n",
    "==> So, we are writing multiple except blocks to handle different sort of exception at its own pace\n",
    "\n",
    "==> Always at the end, we define a generic exception block to handle any unknown exception\n",
    "````"
   ]
  },
  {
   "cell_type": "code",
   "execution_count": 17,
   "id": "f640c9f4-8f37-44c0-8e34-c7b683115cbc",
   "metadata": {},
   "outputs": [
    {
     "name": "stdout",
     "output_type": "stream",
     "text": [
      "some error occured\n"
     ]
    }
   ],
   "source": [
    "try:\n",
    "    f = open(\"sample1.txt\", \"r\")\n",
    "    print(f.read())\n",
    "    print(m)\n",
    "except:\n",
    "    print(\"some error occured\")"
   ]
  },
  {
   "cell_type": "code",
   "execution_count": 18,
   "id": "9581c360-bcb4-4220-ac91-2e63490904fd",
   "metadata": {},
   "outputs": [
    {
     "name": "stdout",
     "output_type": "stream",
     "text": [
      "Hello python\n",
      "some error occured\n"
     ]
    }
   ],
   "source": [
    "try:\n",
    "    f = open(\"sample.txt\", \"r\")\n",
    "    print(f.read())\n",
    "    print(m)\n",
    "except:\n",
    "    print(\"some error occured\")"
   ]
  },
  {
   "cell_type": "code",
   "execution_count": 19,
   "id": "dd656a6b-74de-45dc-92c8-16c0a2df6e7b",
   "metadata": {},
   "outputs": [
    {
     "name": "stdout",
     "output_type": "stream",
     "text": [
      "Hello python\n",
      "<built-in method with_traceback of NameError object at 0x000001F47A39E500>\n"
     ]
    }
   ],
   "source": [
    "try:\n",
    "\tf = open(\"sample.txt\", \"r\")\n",
    "\tprint(f.read())\n",
    "\tprint(m)\n",
    "except Exception as e:\n",
    "\tprint(e.with_traceback)"
   ]
  },
  {
   "cell_type": "code",
   "execution_count": 24,
   "id": "db2e0b69-119c-421f-97dd-88c7f5830088",
   "metadata": {},
   "outputs": [
    {
     "name": "stdout",
     "output_type": "stream",
     "text": [
      "File not found\n"
     ]
    }
   ],
   "source": [
    "try:\n",
    "    f = open(\"sample1.txt\", \"r\")\n",
    "    print(f.read())\n",
    "    print(m)\n",
    "    print(5/0)\n",
    "except FileNotFoundError:\n",
    "\tprint(\"File not found\")\n",
    "except NameError:\n",
    "    print(\"variable is not defined\")\n",
    "except ZeroDivisionError:\n",
    "    print(\"can't divide by zero\")\n",
    "except Exception as e:\n",
    "    print(e)"
   ]
  },
  {
   "cell_type": "code",
   "execution_count": 25,
   "id": "841e073a-6fd6-4963-959b-11ee795e4ea6",
   "metadata": {},
   "outputs": [
    {
     "name": "stdout",
     "output_type": "stream",
     "text": [
      "Hello python\n",
      "variable is not defined\n"
     ]
    }
   ],
   "source": [
    "try:\n",
    "    f = open(\"sample.txt\", \"r\")\n",
    "    print(f.read())\n",
    "    print(m)\n",
    "    print(5/0)\n",
    "except FileNotFoundError:\n",
    "\tprint(\"File not found\")\n",
    "except NameError:\n",
    "    print(\"variable is not defined\")\n",
    "except ZeroDivisionError:\n",
    "    print(\"can't divide by zero\")\n",
    "except Exception as e:\n",
    "    print(e)"
   ]
  },
  {
   "cell_type": "code",
   "execution_count": 27,
   "id": "d27d3013-7d61-495f-ba11-6b79f4cab981",
   "metadata": {},
   "outputs": [
    {
     "name": "stdout",
     "output_type": "stream",
     "text": [
      "Hello python\n",
      "10\n",
      "can't divide by zero\n"
     ]
    }
   ],
   "source": [
    "try:\n",
    "    m = 10\n",
    "    f = open(\"sample.txt\", \"r\")\n",
    "    print(f.read())\n",
    "    print(m)\n",
    "    print(5/0)\n",
    "except FileNotFoundError:\n",
    "\tprint(\"File not found\")\n",
    "except NameError:\n",
    "    print(\"variable is not defined\")\n",
    "except ZeroDivisionError:\n",
    "    print(\"can't divide by zero\")\n",
    "except Exception as e:\n",
    "    print(e)"
   ]
  },
  {
   "cell_type": "code",
   "execution_count": 28,
   "id": "9e9168fb-01db-4192-b039-60d6333e7dd3",
   "metadata": {},
   "outputs": [
    {
     "name": "stdout",
     "output_type": "stream",
     "text": [
      "Hello python\n",
      "10\n",
      "2.5\n",
      "list index out of range\n"
     ]
    }
   ],
   "source": [
    "try:\n",
    "    m = 10\n",
    "    f = open(\"sample.txt\", \"r\")\n",
    "    print(f.read())\n",
    "    print(m)\n",
    "    print(5/2)\n",
    "    l = [10, 20, 30]\n",
    "    l[100]\n",
    "except FileNotFoundError:\n",
    "\tprint(\"File not found\")\n",
    "except NameError:\n",
    "    print(\"variable is not defined\")\n",
    "except ZeroDivisionError:\n",
    "    print(\"can't divide by zero\")\n",
    "except Exception as e:\n",
    "    print(e)"
   ]
  },
  {
   "cell_type": "markdown",
   "id": "e5887930-0e8e-4718-82a0-347ffbaf4135",
   "metadata": {},
   "source": [
    "```\n",
    "\n",
    "Note:\n",
    "-----\n",
    "\n",
    "==> Always declare the generic exception block at the end of specific exception block otherwise it override the specific exception blocks\n",
    "```"
   ]
  },
  {
   "cell_type": "markdown",
   "id": "e15e864d-5d6d-4f45-bc38-6a76cf070dce",
   "metadata": {},
   "source": [
    "```\n",
    "==> else block    : Inside else block, we write code that doesn't throw any error and it was executed when try block is executed successfully \n",
    "\n",
    "==> finally block : Inside finally block, we write code that should execute always whether error occurred or not occured\n",
    "```"
   ]
  },
  {
   "cell_type": "code",
   "execution_count": 29,
   "id": "470e0a3c-ba98-41b5-9a5d-631639f467da",
   "metadata": {},
   "outputs": [
    {
     "name": "stdout",
     "output_type": "stream",
     "text": [
      "Hello python\n"
     ]
    }
   ],
   "source": [
    "# use case of else block\n",
    "\n",
    "try:\n",
    "    f = open(\"sample.txt\", \"r\")\n",
    "except FileNotFoundError:\n",
    "    print(\"file not found\")\n",
    "except Exception as e:\n",
    "    print(e)\n",
    "else:\n",
    "    print(f.read())"
   ]
  },
  {
   "cell_type": "code",
   "execution_count": 30,
   "id": "f9d9d7ea-2ab0-4b92-88f1-14e11e27b161",
   "metadata": {},
   "outputs": [
    {
     "name": "stdout",
     "output_type": "stream",
     "text": [
      "Hello python\n",
      "It always prints\n"
     ]
    }
   ],
   "source": [
    "# use case of finally block\n",
    "\n",
    "try:\n",
    "    f = open(\"sample.txt\", \"r\")\n",
    "except FileNotFoundError:\n",
    "    print(\"file not found\")\n",
    "except Exception as e:\n",
    "    print(e)\n",
    "else:\n",
    "    print(f.read())\n",
    "finally:\n",
    "    print(\"It always prints\")"
   ]
  },
  {
   "cell_type": "markdown",
   "id": "57f1edbe-5296-402a-b658-a79790bc8030",
   "metadata": {},
   "source": [
    "```\n",
    "Raise Exception:\n",
    "----------------\n",
    "\n",
    "==> In Python Programming, exceptions are raised when errors occur at runtime\n",
    "\n",
    "==> we can also manually raise exceptions using the raise keyword\n",
    "\n",
    "==> we can optionally pass values to the exception to clarify why that exception was raised\n",
    "```"
   ]
  },
  {
   "cell_type": "markdown",
   "id": "58957cbd-cf65-49ed-98ba-5f2389c6b153",
   "metadata": {},
   "source": [
    "```\n",
    "\n",
    "what is the benefit of raise???\n",
    "\n",
    "==> is there any benefit of raise an exception whenever at any point of code???\n",
    "==> walkthrough the below piece of bank code and understand the use of raise\n",
    "\n",
    "==> you can raise an error at any point of code and send it to the except block that handles the error\n",
    "```"
   ]
  },
  {
   "cell_type": "code",
   "execution_count": 31,
   "id": "f1861f0f-26be-40ca-bc35-524a5c22d598",
   "metadata": {},
   "outputs": [
    {
     "ename": "NameError",
     "evalue": "",
     "output_type": "error",
     "traceback": [
      "\u001b[1;31m---------------------------------------------------------------------------\u001b[0m",
      "\u001b[1;31mNameError\u001b[0m                                 Traceback (most recent call last)",
      "Cell \u001b[1;32mIn[31], line 1\u001b[0m\n\u001b[1;32m----> 1\u001b[0m \u001b[38;5;28;01mraise\u001b[39;00m \u001b[38;5;167;01mNameError\u001b[39;00m\n",
      "\u001b[1;31mNameError\u001b[0m: "
     ]
    }
   ],
   "source": [
    "raise NameError"
   ]
  },
  {
   "cell_type": "code",
   "execution_count": 32,
   "id": "e0479d67-3bdb-49c2-b56d-7ee714088363",
   "metadata": {},
   "outputs": [
    {
     "ename": "NameError",
     "evalue": "Variable is not present here",
     "output_type": "error",
     "traceback": [
      "\u001b[1;31m---------------------------------------------------------------------------\u001b[0m",
      "\u001b[1;31mNameError\u001b[0m                                 Traceback (most recent call last)",
      "Cell \u001b[1;32mIn[32], line 1\u001b[0m\n\u001b[1;32m----> 1\u001b[0m \u001b[38;5;28;01mraise\u001b[39;00m \u001b[38;5;167;01mNameError\u001b[39;00m(\u001b[38;5;124m\"\u001b[39m\u001b[38;5;124mVariable is not present here\u001b[39m\u001b[38;5;124m\"\u001b[39m)\n",
      "\u001b[1;31mNameError\u001b[0m: Variable is not present here"
     ]
    }
   ],
   "source": [
    "raise NameError(\"Variable is not present here\")"
   ]
  },
  {
   "cell_type": "code",
   "execution_count": 33,
   "id": "1bdb2fab-0767-4ae1-840a-b0d86c654828",
   "metadata": {},
   "outputs": [
    {
     "name": "stdout",
     "output_type": "stream",
     "text": [
      "5000\n"
     ]
    }
   ],
   "source": [
    "# use case of raise Exception\n",
    "\n",
    "class Bank:\n",
    "\n",
    "    def __init__(self, balance):\n",
    "        self.balance = balance\n",
    "\n",
    "    def withdraw(self, amount):\n",
    "        if amount < 0:\n",
    "            raise Exception(\"Amount can't be negative\")\n",
    "        if self.balance < amount:\n",
    "            raise Exception(\"Insufficient balance\")\n",
    "        self.balance = self.balance - amount\n",
    "\n",
    "\n",
    "ob = Bank(10000)\n",
    "try:\n",
    "    ob.withdraw(5000)\n",
    "except Exception as e:\n",
    "    print(e)\n",
    "else:\n",
    "    print(ob.balance)"
   ]
  },
  {
   "cell_type": "markdown",
   "id": "a7b4cc18-531c-4f70-a8d7-e71fbe234a10",
   "metadata": {},
   "source": [
    "```\n",
    "Explanation:\n",
    "------------\n",
    "\n",
    "==> In above example, we create a bank class with two methods. Inside withdraw method, we include a reality checks that throws exception if any of them were failed\n",
    "\n",
    "==> let's understand it much better, when a control hits the raise statement. It creates a object to Exception class and send it to the except block\n",
    "\n",
    "==> we can use the received object for future usecases like display a message and calling an custom exception class methods\n",
    "```"
   ]
  },
  {
   "cell_type": "code",
   "execution_count": 34,
   "id": "f3dd3762-a948-49a9-904b-ecf06286e7fd",
   "metadata": {},
   "outputs": [
    {
     "name": "stdout",
     "output_type": "stream",
     "text": [
      "Amount can't be negative\n"
     ]
    }
   ],
   "source": [
    "try:\n",
    "    ob.withdraw(-5000)\n",
    "except Exception as e:\n",
    "    print(e)\n",
    "else:\n",
    "    print(ob.balance)"
   ]
  },
  {
   "cell_type": "code",
   "execution_count": 35,
   "id": "6d2e1ac4-dcf4-40b7-bcfb-bbc12b06b28e",
   "metadata": {},
   "outputs": [
    {
     "name": "stdout",
     "output_type": "stream",
     "text": [
      "Insufficient balance\n"
     ]
    }
   ],
   "source": [
    "try:\n",
    "    ob.withdraw(15000)\n",
    "except Exception as e:\n",
    "    print(e)\n",
    "else:\n",
    "    print(ob.balance)"
   ]
  },
  {
   "cell_type": "code",
   "execution_count": 37,
   "id": "ee12414e-fcd4-47ba-b168-268e6bbaf9b9",
   "metadata": {},
   "outputs": [
    {
     "name": "stdout",
     "output_type": "stream",
     "text": [
      "Amount can't be negative\n"
     ]
    }
   ],
   "source": [
    "# usecase of custom exception class\n",
    "\n",
    "class MyException(Exception):\n",
    "    def __init__(self, message):\n",
    "        print(message)\n",
    "        \n",
    "class Bank:\n",
    "\n",
    "    def __init__(self, balance):\n",
    "        self.balance = balance\n",
    "\n",
    "    def withdraw(self, amount):\n",
    "        if amount < 0:\n",
    "            raise MyException(\"Amount can't be negative\")\n",
    "        if self.balance < amount:\n",
    "            raise MyException(\"Insufficient balance\")\n",
    "        self.balance = self.balance - amount\n",
    "\n",
    "\n",
    "ob = Bank(10000)\n",
    "try:\n",
    "    ob.withdraw(-5000)\n",
    "except MyException as e:\n",
    "    pass\n",
    "else:\n",
    "    print(ob.balance)"
   ]
  },
  {
   "cell_type": "code",
   "execution_count": 38,
   "id": "033c3a57-fc25-4717-b53f-293cbe4252dd",
   "metadata": {},
   "outputs": [
    {
     "name": "stdout",
     "output_type": "stream",
     "text": [
      "Insufficient balance\n"
     ]
    }
   ],
   "source": [
    "try:\n",
    "    ob.withdraw(15000)\n",
    "except MyException as e:\n",
    "    pass\n",
    "else:\n",
    "    print(ob.balance)"
   ]
  },
  {
   "cell_type": "code",
   "execution_count": 39,
   "id": "9bce1f9e-c2f0-4c15-baa7-49f4607c01d4",
   "metadata": {},
   "outputs": [
    {
     "name": "stdout",
     "output_type": "stream",
     "text": [
      "5000\n"
     ]
    }
   ],
   "source": [
    "try:\n",
    "    ob.withdraw(5000)\n",
    "except MyException as e:\n",
    "    pass\n",
    "else:\n",
    "    print(ob.balance)"
   ]
  },
  {
   "cell_type": "code",
   "execution_count": 43,
   "id": "358eedde-eafe-4478-b2ac-38bb88173acc",
   "metadata": {},
   "outputs": [],
   "source": [
    "# usecase of realtime example\n",
    "\n",
    "class SecurityError(Exception):\n",
    "    def __init__(self, message):\n",
    "        print(message)\n",
    "\n",
    "    def logout(self):\n",
    "        print(\"logout from all devices\")\n",
    "\n",
    "class Google:\n",
    "    def __init__(self, name, email, password, device):\n",
    "        self.name = name\n",
    "        self.email = email\n",
    "        self.password = password\n",
    "        self.device = device\n",
    "\n",
    "    def login(self, email, password, device):\n",
    "        if device != self.device:\n",
    "            raise SecurityError(\"Someone hacked you....):\")\n",
    "\n",
    "        if (email == self.email) and (password == self.password):\n",
    "            print(\"Welcome to google\")\n",
    "        else:\n",
    "            print(\"Invalide login credentials\")\n",
    "\n",
    "ob = Google(\"Ananth\", \"Ananth@gmail.com\", \"1234\", \"android\")"
   ]
  },
  {
   "cell_type": "code",
   "execution_count": 44,
   "id": "dd126202-d300-4d7e-98d7-1b76b714b8fd",
   "metadata": {},
   "outputs": [
    {
     "name": "stdout",
     "output_type": "stream",
     "text": [
      "Welcome to google\n",
      "Ananth\n",
      "database connection closed\n"
     ]
    }
   ],
   "source": [
    "try:\n",
    "    ob.login(\"Ananth@gmail.com\", \"1234\", \"android\")\n",
    "except SecurityError as e:\n",
    "    e.logout()\n",
    "else:\n",
    "    print(ob.name)\n",
    "finally:\n",
    "    print(\"database connection closed\")"
   ]
  },
  {
   "cell_type": "code",
   "execution_count": 45,
   "id": "c5b771fd-93e8-49ef-be47-b9de0031d456",
   "metadata": {},
   "outputs": [
    {
     "name": "stdout",
     "output_type": "stream",
     "text": [
      "Someone hacked you....):\n",
      "logout from all devices\n",
      "database connection closed\n"
     ]
    }
   ],
   "source": [
    "try:\n",
    "    ob.login(\"Ananth@gmail.com\", \"1234\", \"coloros\")\n",
    "except SecurityError as e:\n",
    "    e.logout()\n",
    "else:\n",
    "    print(ob.name)\n",
    "finally:\n",
    "    print(\"database connection closed\")"
   ]
  },
  {
   "cell_type": "markdown",
   "id": "a2290ec9",
   "metadata": {},
   "source": [
    "```\n",
    "why we need custom exception classes???\n",
    "\n",
    "==> It help us to show the custom exception messages and also used to perform any activity or functionality that completely depend on application usecase when an exception was raised\n",
    "\n",
    "```"
   ]
  }
 ],
 "metadata": {
  "kernelspec": {
   "display_name": "Python 3 (ipykernel)",
   "language": "python",
   "name": "python3"
  },
  "language_info": {
   "codemirror_mode": {
    "name": "ipython",
    "version": 3
   },
   "file_extension": ".py",
   "mimetype": "text/x-python",
   "name": "python",
   "nbconvert_exporter": "python",
   "pygments_lexer": "ipython3",
   "version": "3.11.7"
  }
 },
 "nbformat": 4,
 "nbformat_minor": 5
}
