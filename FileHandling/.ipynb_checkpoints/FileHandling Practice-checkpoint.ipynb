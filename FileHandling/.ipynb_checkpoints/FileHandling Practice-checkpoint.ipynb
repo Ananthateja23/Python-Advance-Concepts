{
 "cells": [
  {
   "cell_type": "markdown",
   "id": "4a1e269b-9770-49dc-a6e2-276bed71609f",
   "metadata": {},
   "source": [
    "### ***Writing Inside files:***"
   ]
  },
  {
   "cell_type": "code",
   "execution_count": 1,
   "id": "c7eb09a5-768a-4120-9be0-f1a5e5e6eefe",
   "metadata": {},
   "outputs": [],
   "source": [
    "# case: If file is not present\n",
    "f = open(\"sample.txt\", \"w\")\n",
    "f.write(\"Hello File\")\n",
    "f.close()"
   ]
  },
  {
   "cell_type": "code",
   "execution_count": 2,
   "id": "5cd8c6ff-d68b-47d0-81a6-7d6aab592288",
   "metadata": {},
   "outputs": [
    {
     "ename": "ValueError",
     "evalue": "I/O operation on closed file.",
     "output_type": "error",
     "traceback": [
      "\u001b[1;31m---------------------------------------------------------------------------\u001b[0m",
      "\u001b[1;31mValueError\u001b[0m                                Traceback (most recent call last)",
      "Cell \u001b[1;32mIn[2], line 1\u001b[0m\n\u001b[1;32m----> 1\u001b[0m f\u001b[38;5;241m.\u001b[39mwrite(\u001b[38;5;124m\"\u001b[39m\u001b[38;5;124mAre you there???\u001b[39m\u001b[38;5;124m\"\u001b[39m)\n",
      "\u001b[1;31mValueError\u001b[0m: I/O operation on closed file."
     ]
    }
   ],
   "source": [
    "f.write(\"Are you there???\")"
   ]
  },
  {
   "cell_type": "code",
   "execution_count": 3,
   "id": "0d42233d-acc3-405b-9b5d-63e07a2c249f",
   "metadata": {},
   "outputs": [],
   "source": [
    "# case: If file is not present and need to write multistring inside file\n",
    "\n",
    "f = open(\"sample1.txt\", \"w\")\n",
    "f.write(\"Hello\")\n",
    "f.write(\"\\nHow are you???\")\n",
    "f.close()"
   ]
  },
  {
   "cell_type": "code",
   "execution_count": 4,
   "id": "98d0cec4-8e06-43c7-9923-ff2162d88091",
   "metadata": {},
   "outputs": [],
   "source": [
    "# case: If file is present and opening an existing file\n",
    "\n",
    "f = open(\"sample.txt\", \"w\")\n",
    "f.write(\"Tony Stark\")\n",
    "f.close()"
   ]
  },
  {
   "cell_type": "code",
   "execution_count": 5,
   "id": "fe1c4262-7fe0-43ce-bfe7-af9eae3d77ae",
   "metadata": {},
   "outputs": [],
   "source": [
    "# case: If file is present and need to add new content inside file\n",
    "\n",
    "f = open(\"sample1.txt\", \"a\")\n",
    "f.write(\"\\nI am fine:)\")\n",
    "f.close()"
   ]
  },
  {
   "cell_type": "code",
   "execution_count": 6,
   "id": "285c75ea-b631-4477-86ef-d056111f02b4",
   "metadata": {},
   "outputs": [],
   "source": [
    "# case: If file is present and write multistring with writelines function\n",
    "\n",
    "Sentences = [\"Hello\\n\", \"How are you???\\n\", \"I am fine :)\"]\n",
    "\n",
    "f = open(\"sample.txt\", \"w\")\n",
    "f.writelines(Sentences)\n",
    "f.close()"
   ]
  },
  {
   "cell_type": "markdown",
   "id": "b24c83a9-6b90-4c09-9455-0ffc15ef351a",
   "metadata": {},
   "source": [
    "### ***Reading files:***"
   ]
  },
  {
   "cell_type": "code",
   "execution_count": 7,
   "id": "36bacf38-c0a2-4f61-8986-5b389021166d",
   "metadata": {},
   "outputs": [
    {
     "ename": "FileNotFoundError",
     "evalue": "[Errno 2] No such file or directory: 'NewSample.txt'",
     "output_type": "error",
     "traceback": [
      "\u001b[1;31m---------------------------------------------------------------------------\u001b[0m",
      "\u001b[1;31mFileNotFoundError\u001b[0m                         Traceback (most recent call last)",
      "Cell \u001b[1;32mIn[7], line 3\u001b[0m\n\u001b[0;32m      1\u001b[0m \u001b[38;5;66;03m# case: If file is not present\u001b[39;00m\n\u001b[1;32m----> 3\u001b[0m f \u001b[38;5;241m=\u001b[39m \u001b[38;5;28mopen\u001b[39m(\u001b[38;5;124m\"\u001b[39m\u001b[38;5;124mNewSample.txt\u001b[39m\u001b[38;5;124m\"\u001b[39m, \u001b[38;5;124m\"\u001b[39m\u001b[38;5;124mr\u001b[39m\u001b[38;5;124m\"\u001b[39m)\n\u001b[0;32m      4\u001b[0m f\u001b[38;5;241m.\u001b[39mread()\n\u001b[0;32m      5\u001b[0m f\u001b[38;5;241m.\u001b[39mclose()\n",
      "File \u001b[1;32m~\\anaconda3\\Lib\\site-packages\\IPython\\core\\interactiveshell.py:310\u001b[0m, in \u001b[0;36m_modified_open\u001b[1;34m(file, *args, **kwargs)\u001b[0m\n\u001b[0;32m    303\u001b[0m \u001b[38;5;28;01mif\u001b[39;00m file \u001b[38;5;129;01min\u001b[39;00m {\u001b[38;5;241m0\u001b[39m, \u001b[38;5;241m1\u001b[39m, \u001b[38;5;241m2\u001b[39m}:\n\u001b[0;32m    304\u001b[0m     \u001b[38;5;28;01mraise\u001b[39;00m \u001b[38;5;167;01mValueError\u001b[39;00m(\n\u001b[0;32m    305\u001b[0m         \u001b[38;5;124mf\u001b[39m\u001b[38;5;124m\"\u001b[39m\u001b[38;5;124mIPython won\u001b[39m\u001b[38;5;124m'\u001b[39m\u001b[38;5;124mt let you open fd=\u001b[39m\u001b[38;5;132;01m{\u001b[39;00mfile\u001b[38;5;132;01m}\u001b[39;00m\u001b[38;5;124m by default \u001b[39m\u001b[38;5;124m\"\u001b[39m\n\u001b[0;32m    306\u001b[0m         \u001b[38;5;124m\"\u001b[39m\u001b[38;5;124mas it is likely to crash IPython. If you know what you are doing, \u001b[39m\u001b[38;5;124m\"\u001b[39m\n\u001b[0;32m    307\u001b[0m         \u001b[38;5;124m\"\u001b[39m\u001b[38;5;124myou can use builtins\u001b[39m\u001b[38;5;124m'\u001b[39m\u001b[38;5;124m open.\u001b[39m\u001b[38;5;124m\"\u001b[39m\n\u001b[0;32m    308\u001b[0m     )\n\u001b[1;32m--> 310\u001b[0m \u001b[38;5;28;01mreturn\u001b[39;00m io_open(file, \u001b[38;5;241m*\u001b[39margs, \u001b[38;5;241m*\u001b[39m\u001b[38;5;241m*\u001b[39mkwargs)\n",
      "\u001b[1;31mFileNotFoundError\u001b[0m: [Errno 2] No such file or directory: 'NewSample.txt'"
     ]
    }
   ],
   "source": [
    "# case: If file is not present\n",
    "\n",
    "f = open(\"NewSample.txt\", \"r\")\n",
    "f.read()\n",
    "f.close()"
   ]
  },
  {
   "cell_type": "code",
   "execution_count": 8,
   "id": "e7b419e2-aa50-4d14-8437-0698bfd62bd0",
   "metadata": {},
   "outputs": [
    {
     "name": "stdout",
     "output_type": "stream",
     "text": [
      "Hello\n",
      "How are you???\n",
      "I am fine :)\n"
     ]
    }
   ],
   "source": [
    "# case: If file is present and using read function\n",
    "\n",
    "f = open(\"sample.txt\", \"r\")\n",
    "print(f.read())\n",
    "f.close()"
   ]
  },
  {
   "cell_type": "code",
   "execution_count": 10,
   "id": "96790681-dbd7-4fff-897e-17f18f124bc6",
   "metadata": {},
   "outputs": [
    {
     "name": "stdout",
     "output_type": "stream",
     "text": [
      "Hello\n",
      "\n",
      "How \n"
     ]
    }
   ],
   "source": [
    "# case: If file is present and using read function to read first 5 char and next 5 charr\n",
    "\n",
    "f = open(\"sample.txt\", \"r\")\n",
    "print(f.read(5))\n",
    "print(f.read(5))\n",
    "f.close()"
   ]
  },
  {
   "cell_type": "code",
   "execution_count": 11,
   "id": "17d2d4cc-57d8-4131-a5e2-a654788c15a8",
   "metadata": {},
   "outputs": [
    {
     "name": "stdout",
     "output_type": "stream",
     "text": [
      "Hello\n",
      "How "
     ]
    }
   ],
   "source": [
    "f = open(\"sample.txt\", \"r\")\n",
    "print(f.read(5), end=\"\")\n",
    "print(f.read(5), end=\"\")\n",
    "f.close()"
   ]
  },
  {
   "cell_type": "code",
   "execution_count": 12,
   "id": "96be6582-0485-4652-a370-38a4c8d537ed",
   "metadata": {},
   "outputs": [
    {
     "name": "stdout",
     "output_type": "stream",
     "text": [
      "Hello\n",
      "\n",
      "How are you???\n",
      "\n",
      "I am fine :)\n"
     ]
    }
   ],
   "source": [
    "# case: If file is present and using readline function\n",
    "\n",
    "f = open(\"sample.txt\", \"r\")\n",
    "print(f.readline())\n",
    "print(f.readline())\n",
    "print(f.readline())\n",
    "f.close()"
   ]
  },
  {
   "cell_type": "code",
   "execution_count": 13,
   "id": "0258d19e-7d5f-4d52-9aba-4d129f2c57f2",
   "metadata": {},
   "outputs": [
    {
     "name": "stdout",
     "output_type": "stream",
     "text": [
      "Hello\n",
      "How are you???\n",
      "I am fine :)"
     ]
    }
   ],
   "source": [
    "f = open(\"sample.txt\", \"r\")\n",
    "print(f.readline(), end=\"\")\n",
    "print(f.readline(), end=\"\")\n",
    "print(f.readline(), end=\"\")\n",
    "f.close()"
   ]
  },
  {
   "cell_type": "markdown",
   "id": "822d22f1-9ddf-4120-9a20-f49f173faa95",
   "metadata": {},
   "source": [
    "```\n",
    "points to remember:\n",
    "-------------------\n",
    "\n",
    "(1) read():\n",
    "\n",
    "==> Use read function, when we work with small files\n",
    "\n",
    "==> It reads each and every line inside file at a time and returns as string\n",
    "\n",
    "(2) readline():\n",
    "\n",
    "==> Use readline function, when we work with large files\n",
    "\n",
    "==> It reads one line info at a time and returns as string\n",
    "```"
   ]
  },
  {
   "cell_type": "markdown",
   "id": "44b61fac-1285-4a8c-bad3-f6641603d204",
   "metadata": {},
   "source": [
    "### ***Usage of context manager(with):***"
   ]
  },
  {
   "cell_type": "markdown",
   "id": "17fd9024-b4f2-4332-ad01-43067743402e",
   "metadata": {},
   "source": [
    "```\n",
    "==> It is a good idea to close the file after usage as it free up resources\n",
    "\n",
    "==> If we don't close the file, Garbage collector would eventually close it\n",
    "\n",
    "==> with keyword, closes the file automatically when the usage is over\n",
    "```"
   ]
  },
  {
   "cell_type": "code",
   "execution_count": 14,
   "id": "82680e52-33c0-4527-b5bc-886c77498c60",
   "metadata": {},
   "outputs": [],
   "source": [
    "# writing inside file using with\n",
    "\n",
    "with open(\"sample1.txt\", \"w\") as f:\n",
    "    f.write(\"Thunder Bolts*\")"
   ]
  },
  {
   "cell_type": "code",
   "execution_count": 15,
   "id": "ac0938ed-5b2f-462b-b9c2-4b9b8f74d698",
   "metadata": {},
   "outputs": [
    {
     "ename": "ValueError",
     "evalue": "I/O operation on closed file.",
     "output_type": "error",
     "traceback": [
      "\u001b[1;31m---------------------------------------------------------------------------\u001b[0m",
      "\u001b[1;31mValueError\u001b[0m                                Traceback (most recent call last)",
      "Cell \u001b[1;32mIn[15], line 1\u001b[0m\n\u001b[1;32m----> 1\u001b[0m f\u001b[38;5;241m.\u001b[39mwrite(\u001b[38;5;124m\"\u001b[39m\u001b[38;5;124mThe new Avengers\u001b[39m\u001b[38;5;124m\"\u001b[39m)\n",
      "\u001b[1;31mValueError\u001b[0m: I/O operation on closed file."
     ]
    }
   ],
   "source": [
    "f.write(\"The new Avengers\")"
   ]
  },
  {
   "cell_type": "code",
   "execution_count": 16,
   "id": "527445f3-89e7-4254-a5f1-df1ed8ca76c2",
   "metadata": {},
   "outputs": [
    {
     "name": "stdout",
     "output_type": "stream",
     "text": [
      "Hello\n",
      "How are you???\n",
      "I am fine :)\n"
     ]
    }
   ],
   "source": [
    "# reading files\n",
    "\n",
    "with open(\"sample.txt\",\"r\") as f:\n",
    "    print(f.read())"
   ]
  },
  {
   "cell_type": "code",
   "execution_count": 17,
   "id": "9cc9315e-a7d3-4189-9c06-e65765c88212",
   "metadata": {},
   "outputs": [
    {
     "name": "stdout",
     "output_type": "stream",
     "text": [
      "Hello\n",
      "\n",
      "How \n"
     ]
    }
   ],
   "source": [
    "with open(\"sample.txt\",\"r\") as f:\n",
    "    print(f.read(5))\n",
    "    print(f.read(5))"
   ]
  },
  {
   "cell_type": "code",
   "execution_count": 18,
   "id": "16905aca-fc5b-4af9-8921-35bf348b675f",
   "metadata": {},
   "outputs": [
    {
     "name": "stdout",
     "output_type": "stream",
     "text": [
      "Hello\n",
      "How "
     ]
    }
   ],
   "source": [
    "with open(\"sample.txt\",\"r\") as f:\n",
    "    print(f.read(5), end=\"\")\n",
    "    print(f.read(5), end=\"\")"
   ]
  },
  {
   "cell_type": "code",
   "execution_count": 19,
   "id": "44df6b27-f1f9-4eed-b160-7fb22e3110ca",
   "metadata": {},
   "outputs": [
    {
     "name": "stdout",
     "output_type": "stream",
     "text": [
      "Hello\n",
      "How are you???\n",
      "I am fine :)"
     ]
    }
   ],
   "source": [
    "with open(\"sample.txt\",\"r\") as f:\n",
    "    print(f.readline(), end=\"\")\n",
    "    print(f.readline(), end=\"\")\n",
    "    print(f.readline(), end=\"\")"
   ]
  },
  {
   "cell_type": "markdown",
   "id": "e027f116-3cb1-4dac-afac-57724a6cd9f2",
   "metadata": {},
   "source": [
    "```\n",
    "==> tell(): It gives us the current index position of cursor\n",
    "\n",
    "==> seek(index_position): It takes the cursor from the current index position to the given index position\n",
    "```"
   ]
  },
  {
   "cell_type": "code",
   "execution_count": 20,
   "id": "0dbae9dd-646f-4c18-84fc-985e0003fdd4",
   "metadata": {},
   "outputs": [
    {
     "name": "stdout",
     "output_type": "stream",
     "text": [
      "Hello\n",
      "5 current Index position\n",
      "Hello\n",
      "5 current Index position\n"
     ]
    }
   ],
   "source": [
    "# using tell and seek to read info of files\n",
    "\n",
    "with open(\"sample.txt\", \"r\") as f:\n",
    "    print(f.read(5))\n",
    "    print(f.tell(), \"current Index position\")\n",
    "    f.seek(0)\n",
    "    print(f.read(5))\n",
    "    print(f.tell(), \"current Index position\")"
   ]
  },
  {
   "cell_type": "code",
   "execution_count": 21,
   "id": "b7e70544-9748-42a8-a1a2-0a375acee16d",
   "metadata": {},
   "outputs": [],
   "source": [
    "# using tell and seek to write info inside files\n",
    "\n",
    "with open(\"sample.txt\", \"w\") as f:\n",
    "    f.write(\"Hello\")\n",
    "    f.seek(0)\n",
    "    f.write(\"X\")"
   ]
  },
  {
   "cell_type": "code",
   "execution_count": 22,
   "id": "8aadff49-c240-47f8-ad8d-c9b566336623",
   "metadata": {},
   "outputs": [
    {
     "name": "stdout",
     "output_type": "stream",
     "text": [
      "Xello\n"
     ]
    }
   ],
   "source": [
    "with open(\"sample.txt\", \"r\") as f:\n",
    "    print(f.read())"
   ]
  },
  {
   "cell_type": "code",
   "execution_count": 23,
   "id": "613742bb-6e91-4a02-87ab-8002d9ae7836",
   "metadata": {},
   "outputs": [],
   "source": [
    "with open(\"sample.txt\", \"w\") as f:\n",
    "    f.write(\"Hello\")\n",
    "    f.seek(0)\n",
    "    f.write(\"Xa\")"
   ]
  },
  {
   "cell_type": "code",
   "execution_count": 24,
   "id": "882cbfd9-1508-4909-b61d-95ac4653e51d",
   "metadata": {},
   "outputs": [
    {
     "name": "stdout",
     "output_type": "stream",
     "text": [
      "Xallo\n"
     ]
    }
   ],
   "source": [
    "with open(\"sample.txt\", \"r\") as f:\n",
    "    print(f.read())"
   ]
  },
  {
   "cell_type": "markdown",
   "id": "8b89555a-cecc-4a31-95d0-07f7d5bc87b6",
   "metadata": {},
   "source": [
    "```\n",
    "Problems of working with text files and text mode:\n",
    "--------------------------------------------------\n",
    "\n",
    "==> can't work with binary files\n",
    "\n",
    "==> not good for other data types such as int/float/list/tuple\n",
    "```"
   ]
  },
  {
   "cell_type": "code",
   "execution_count": 25,
   "id": "6642dfc3-f354-47f5-91ac-05f2374671c6",
   "metadata": {},
   "outputs": [
    {
     "ename": "UnicodeDecodeError",
     "evalue": "'charmap' codec can't decode byte 0x9d in position 66: character maps to <undefined>",
     "output_type": "error",
     "traceback": [
      "\u001b[1;31m---------------------------------------------------------------------------\u001b[0m",
      "\u001b[1;31mUnicodeDecodeError\u001b[0m                        Traceback (most recent call last)",
      "Cell \u001b[1;32mIn[25], line 2\u001b[0m\n\u001b[0;32m      1\u001b[0m \u001b[38;5;28;01mwith\u001b[39;00m \u001b[38;5;28mopen\u001b[39m(\u001b[38;5;124m\"\u001b[39m\u001b[38;5;124mPython.png\u001b[39m\u001b[38;5;124m\"\u001b[39m, \u001b[38;5;124m\"\u001b[39m\u001b[38;5;124mr\u001b[39m\u001b[38;5;124m\"\u001b[39m) \u001b[38;5;28;01mas\u001b[39;00m f:\n\u001b[1;32m----> 2\u001b[0m     \u001b[38;5;28mprint\u001b[39m(f\u001b[38;5;241m.\u001b[39mread())\n",
      "File \u001b[1;32m~\\anaconda3\\Lib\\encodings\\cp1252.py:23\u001b[0m, in \u001b[0;36mIncrementalDecoder.decode\u001b[1;34m(self, input, final)\u001b[0m\n\u001b[0;32m     22\u001b[0m \u001b[38;5;28;01mdef\u001b[39;00m \u001b[38;5;21mdecode\u001b[39m(\u001b[38;5;28mself\u001b[39m, \u001b[38;5;28minput\u001b[39m, final\u001b[38;5;241m=\u001b[39m\u001b[38;5;28;01mFalse\u001b[39;00m):\n\u001b[1;32m---> 23\u001b[0m     \u001b[38;5;28;01mreturn\u001b[39;00m codecs\u001b[38;5;241m.\u001b[39mcharmap_decode(\u001b[38;5;28minput\u001b[39m,\u001b[38;5;28mself\u001b[39m\u001b[38;5;241m.\u001b[39merrors,decoding_table)[\u001b[38;5;241m0\u001b[39m]\n",
      "\u001b[1;31mUnicodeDecodeError\u001b[0m: 'charmap' codec can't decode byte 0x9d in position 66: character maps to <undefined>"
     ]
    }
   ],
   "source": [
    "with open(\"Python.png\", \"r\") as f:\n",
    "    print(f.read())"
   ]
  },
  {
   "cell_type": "code",
   "execution_count": 26,
   "id": "0cfedf03-e7e7-4398-aa5f-7ced4fcde6a6",
   "metadata": {},
   "outputs": [],
   "source": [
    "with open(\"Python.png\", \"rb\") as f:\n",
    "    with open(\"Python_copy.png\", \"wb\") as wf:\n",
    "        wf.write(f.read())"
   ]
  },
  {
   "cell_type": "markdown",
   "id": "d693a0ad-9688-4903-aa26-13b8a047c45e",
   "metadata": {},
   "source": [
    "```\n",
    "point to remember:\n",
    "------------------\n",
    "\n",
    "==> Text mode can't work with binary files because while decoding it fails due to file binary info\n",
    "\n",
    "==> So, we have to change the \"text mode\" to \"binary mode\" to work seemlesly\n",
    "```"
   ]
  },
  {
   "cell_type": "code",
   "execution_count": 27,
   "id": "2c22689b-f551-4db6-ae5b-c2cac5a07535",
   "metadata": {},
   "outputs": [
    {
     "ename": "TypeError",
     "evalue": "write() argument must be str, not int",
     "output_type": "error",
     "traceback": [
      "\u001b[1;31m---------------------------------------------------------------------------\u001b[0m",
      "\u001b[1;31mTypeError\u001b[0m                                 Traceback (most recent call last)",
      "Cell \u001b[1;32mIn[27], line 2\u001b[0m\n\u001b[0;32m      1\u001b[0m \u001b[38;5;28;01mwith\u001b[39;00m \u001b[38;5;28mopen\u001b[39m(\u001b[38;5;124m\"\u001b[39m\u001b[38;5;124msample.txt\u001b[39m\u001b[38;5;124m\"\u001b[39m, \u001b[38;5;124m\"\u001b[39m\u001b[38;5;124mw\u001b[39m\u001b[38;5;124m\"\u001b[39m) \u001b[38;5;28;01mas\u001b[39;00m f:\n\u001b[1;32m----> 2\u001b[0m     f\u001b[38;5;241m.\u001b[39mwrite(\u001b[38;5;241m5\u001b[39m)\n",
      "\u001b[1;31mTypeError\u001b[0m: write() argument must be str, not int"
     ]
    }
   ],
   "source": [
    "with open(\"sample.txt\", \"w\") as f:\n",
    "    f.write(5)"
   ]
  },
  {
   "cell_type": "code",
   "execution_count": 28,
   "id": "030c11fb-ddcc-43cc-a12c-fda9d1400cb8",
   "metadata": {},
   "outputs": [],
   "source": [
    "with open(\"sample.txt\", \"w\") as f:\n",
    "    f.write('5')"
   ]
  },
  {
   "cell_type": "code",
   "execution_count": 29,
   "id": "f8558105-e594-46da-8a4e-f19520208399",
   "metadata": {},
   "outputs": [
    {
     "name": "stdout",
     "output_type": "stream",
     "text": [
      "5 <class 'str'>\n"
     ]
    }
   ],
   "source": [
    "with open(\"sample.txt\", \"r\") as f:\n",
    "    data = f.read()\n",
    "    print(data, type(data))"
   ]
  },
  {
   "cell_type": "code",
   "execution_count": 30,
   "id": "311c5254-21c2-4900-9914-bb289862a647",
   "metadata": {},
   "outputs": [
    {
     "ename": "TypeError",
     "evalue": "write() argument must be str, not dict",
     "output_type": "error",
     "traceback": [
      "\u001b[1;31m---------------------------------------------------------------------------\u001b[0m",
      "\u001b[1;31mTypeError\u001b[0m                                 Traceback (most recent call last)",
      "Cell \u001b[1;32mIn[30], line 6\u001b[0m\n\u001b[0;32m      1\u001b[0m d \u001b[38;5;241m=\u001b[39m {\n\u001b[0;32m      2\u001b[0m     \u001b[38;5;124m\"\u001b[39m\u001b[38;5;124mname\u001b[39m\u001b[38;5;124m\"\u001b[39m: \u001b[38;5;124m\"\u001b[39m\u001b[38;5;124mTony Stark\u001b[39m\u001b[38;5;124m\"\u001b[39m,\n\u001b[0;32m      3\u001b[0m     \u001b[38;5;124m\"\u001b[39m\u001b[38;5;124mrole\u001b[39m\u001b[38;5;124m\"\u001b[39m: \u001b[38;5;124m\"\u001b[39m\u001b[38;5;124mAvenger\u001b[39m\u001b[38;5;124m\"\u001b[39m,\n\u001b[0;32m      4\u001b[0m }\n\u001b[0;32m      5\u001b[0m \u001b[38;5;28;01mwith\u001b[39;00m \u001b[38;5;28mopen\u001b[39m(\u001b[38;5;124m\"\u001b[39m\u001b[38;5;124msample.txt\u001b[39m\u001b[38;5;124m\"\u001b[39m, \u001b[38;5;124m\"\u001b[39m\u001b[38;5;124mw\u001b[39m\u001b[38;5;124m\"\u001b[39m) \u001b[38;5;28;01mas\u001b[39;00m f:\n\u001b[1;32m----> 6\u001b[0m     f\u001b[38;5;241m.\u001b[39mwrite(d)\n",
      "\u001b[1;31mTypeError\u001b[0m: write() argument must be str, not dict"
     ]
    }
   ],
   "source": [
    "d = {\n",
    "    \"name\": \"Tony Stark\",\n",
    "    \"role\": \"Avenger\",\n",
    "}\n",
    "with open(\"sample.txt\", \"w\") as f:\n",
    "    f.write(d)"
   ]
  },
  {
   "cell_type": "code",
   "execution_count": 31,
   "id": "f97d4ca4-f374-4986-95d2-37cbe1ee2d85",
   "metadata": {},
   "outputs": [],
   "source": [
    "d = {\n",
    "    \"name\": \"Tony Stark\",\n",
    "    \"role\": \"Avenger\",\n",
    "}\n",
    "with open(\"sample.txt\", \"w\") as f:\n",
    "    f.write(str(d))"
   ]
  },
  {
   "cell_type": "code",
   "execution_count": 32,
   "id": "4d95a77d-aeed-45e7-a21a-f10e1162f83e",
   "metadata": {},
   "outputs": [
    {
     "name": "stdout",
     "output_type": "stream",
     "text": [
      "{'name': 'Tony Stark', 'role': 'Avenger'} <class 'str'>\n"
     ]
    }
   ],
   "source": [
    "with open(\"sample.txt\", \"r\") as f:\n",
    "    data = f.read()\n",
    "    print(data, type(data))"
   ]
  },
  {
   "cell_type": "markdown",
   "id": "cc52174a-d2c2-4683-90ef-02d6014132a9",
   "metadata": {},
   "source": [
    "```\n",
    "point to remember:\n",
    "------------------\n",
    "\n",
    "==> text files is not good for other datatype. Because textual files understand everything in string format. \n",
    "    \n",
    "==> It may be int/float/collection datatype. We have to convert them into string then only text file allows to write inside of it\n",
    "\n",
    "==> The solution to above problem is Serialization and Deserialization\n",
    "```"
   ]
  },
  {
   "cell_type": "markdown",
   "id": "eb159682-5e3a-4c78-8911-c20f83113e5c",
   "metadata": {},
   "source": [
    "----"
   ]
  },
  {
   "cell_type": "markdown",
   "id": "bf50ad27-8734-475f-b0ac-c277865af33a",
   "metadata": {},
   "source": [
    "```\n",
    "\n",
    "what is Serialization and Deserialization???\n",
    "\n",
    "==> Serialization: Converting Python data type to JSON format\n",
    "\n",
    "==> Deserialization: Converting JSON format to Python data type\n",
    "\n",
    "what is JSON???\n",
    "\n",
    "==> JSON stands for JavaScript Object Notation. It is a well-known universal text format understood by every programming language\n",
    "\n",
    "```"
   ]
  },
  {
   "cell_type": "code",
   "execution_count": 33,
   "id": "3754895a-a185-48f3-9181-73b982b58e14",
   "metadata": {},
   "outputs": [
    {
     "ename": "TypeError",
     "evalue": "write() argument must be str, not int",
     "output_type": "error",
     "traceback": [
      "\u001b[1;31m---------------------------------------------------------------------------\u001b[0m",
      "\u001b[1;31mTypeError\u001b[0m                                 Traceback (most recent call last)",
      "Cell \u001b[1;32mIn[33], line 5\u001b[0m\n\u001b[0;32m      3\u001b[0m \u001b[38;5;28;01mwith\u001b[39;00m \u001b[38;5;28mopen\u001b[39m(\u001b[38;5;124m\"\u001b[39m\u001b[38;5;124mdemo.json\u001b[39m\u001b[38;5;124m\"\u001b[39m, \u001b[38;5;124m\"\u001b[39m\u001b[38;5;124mw\u001b[39m\u001b[38;5;124m\"\u001b[39m) \u001b[38;5;28;01mas\u001b[39;00m f:\n\u001b[0;32m      4\u001b[0m     data \u001b[38;5;241m=\u001b[39m \u001b[38;5;241m5\u001b[39m\n\u001b[1;32m----> 5\u001b[0m     f\u001b[38;5;241m.\u001b[39mwrite(data)\n",
      "\u001b[1;31mTypeError\u001b[0m: write() argument must be str, not int"
     ]
    }
   ],
   "source": [
    "import json\n",
    "\n",
    "with open(\"demo.json\", \"w\") as f:\n",
    "    data = 5\n",
    "    f.write(data)"
   ]
  },
  {
   "cell_type": "code",
   "execution_count": 34,
   "id": "437e96ea-d7ab-41bf-8732-ac70ccb61e11",
   "metadata": {},
   "outputs": [],
   "source": [
    "with open(\"demo.json\", \"w\") as f:\n",
    "    data = 5\n",
    "    json.dump(data, f)"
   ]
  },
  {
   "cell_type": "code",
   "execution_count": 35,
   "id": "997420c1-0fc4-4075-9cdb-cd8db1961ec9",
   "metadata": {},
   "outputs": [
    {
     "name": "stdout",
     "output_type": "stream",
     "text": [
      "5 <class 'int'>\n"
     ]
    }
   ],
   "source": [
    "with open(\"demo.json\", \"r\") as f:\n",
    "    data = json.load(f)\n",
    "    print(data, type(data))"
   ]
  },
  {
   "cell_type": "code",
   "execution_count": 36,
   "id": "77c1de9b-e5aa-4395-8bbc-2bb7373279b4",
   "metadata": {},
   "outputs": [],
   "source": [
    "import json\n",
    "\n",
    "dict_info = {\n",
    "    \"name\": \"Tony Stark\",\n",
    "    \"role\": \"Avenger\",\n",
    "}\n",
    "with open(\"demo.json\", \"w\") as f:\n",
    "    json.dump(dict_info, f)"
   ]
  },
  {
   "cell_type": "code",
   "execution_count": 37,
   "id": "e4c74859-65c8-4374-98c6-962ffbeeb343",
   "metadata": {},
   "outputs": [
    {
     "name": "stdout",
     "output_type": "stream",
     "text": [
      "{'name': 'Tony Stark', 'role': 'Avenger'} <class 'dict'>\n"
     ]
    }
   ],
   "source": [
    "import json\n",
    "\n",
    "with open(\"demo.json\", \"r\") as f:\n",
    "    data = json.load(f)\n",
    "    print(data, type(data))"
   ]
  },
  {
   "cell_type": "code",
   "execution_count": 38,
   "id": "fd01306b-a871-46f2-ae0a-3cd0d721b41d",
   "metadata": {},
   "outputs": [],
   "source": [
    "# creating custom object\n",
    "\n",
    "class Person:\n",
    "\n",
    "    def __init__(self, fname, lname, age, gender):\n",
    "        self.fname = fname\n",
    "        self.lname = lname\n",
    "        self.age = age\n",
    "        self.gender = gender\n",
    "\n",
    "\n",
    "person = Person(\"Ananth\", \"Teja\", 25, \"Male\")"
   ]
  },
  {
   "cell_type": "code",
   "execution_count": 39,
   "id": "c3421232-608c-442c-a049-e7e003169526",
   "metadata": {},
   "outputs": [
    {
     "ename": "TypeError",
     "evalue": "Object of type Person is not JSON serializable",
     "output_type": "error",
     "traceback": [
      "\u001b[1;31m---------------------------------------------------------------------------\u001b[0m",
      "\u001b[1;31mTypeError\u001b[0m                                 Traceback (most recent call last)",
      "Cell \u001b[1;32mIn[39], line 4\u001b[0m\n\u001b[0;32m      1\u001b[0m \u001b[38;5;28;01mimport\u001b[39;00m \u001b[38;5;21;01mjson\u001b[39;00m\n\u001b[0;32m      3\u001b[0m \u001b[38;5;28;01mwith\u001b[39;00m \u001b[38;5;28mopen\u001b[39m(\u001b[38;5;124m\"\u001b[39m\u001b[38;5;124mdemo.json\u001b[39m\u001b[38;5;124m\"\u001b[39m, \u001b[38;5;124m\"\u001b[39m\u001b[38;5;124mw\u001b[39m\u001b[38;5;124m\"\u001b[39m) \u001b[38;5;28;01mas\u001b[39;00m f:\n\u001b[1;32m----> 4\u001b[0m     json\u001b[38;5;241m.\u001b[39mdump(person, f)\n",
      "File \u001b[1;32m~\\anaconda3\\Lib\\json\\__init__.py:179\u001b[0m, in \u001b[0;36mdump\u001b[1;34m(obj, fp, skipkeys, ensure_ascii, check_circular, allow_nan, cls, indent, separators, default, sort_keys, **kw)\u001b[0m\n\u001b[0;32m    173\u001b[0m     iterable \u001b[38;5;241m=\u001b[39m \u001b[38;5;28mcls\u001b[39m(skipkeys\u001b[38;5;241m=\u001b[39mskipkeys, ensure_ascii\u001b[38;5;241m=\u001b[39mensure_ascii,\n\u001b[0;32m    174\u001b[0m         check_circular\u001b[38;5;241m=\u001b[39mcheck_circular, allow_nan\u001b[38;5;241m=\u001b[39mallow_nan, indent\u001b[38;5;241m=\u001b[39mindent,\n\u001b[0;32m    175\u001b[0m         separators\u001b[38;5;241m=\u001b[39mseparators,\n\u001b[0;32m    176\u001b[0m         default\u001b[38;5;241m=\u001b[39mdefault, sort_keys\u001b[38;5;241m=\u001b[39msort_keys, \u001b[38;5;241m*\u001b[39m\u001b[38;5;241m*\u001b[39mkw)\u001b[38;5;241m.\u001b[39miterencode(obj)\n\u001b[0;32m    177\u001b[0m \u001b[38;5;66;03m# could accelerate with writelines in some versions of Python, at\u001b[39;00m\n\u001b[0;32m    178\u001b[0m \u001b[38;5;66;03m# a debuggability cost\u001b[39;00m\n\u001b[1;32m--> 179\u001b[0m \u001b[38;5;28;01mfor\u001b[39;00m chunk \u001b[38;5;129;01min\u001b[39;00m iterable:\n\u001b[0;32m    180\u001b[0m     fp\u001b[38;5;241m.\u001b[39mwrite(chunk)\n",
      "File \u001b[1;32m~\\anaconda3\\Lib\\json\\encoder.py:439\u001b[0m, in \u001b[0;36m_make_iterencode.<locals>._iterencode\u001b[1;34m(o, _current_indent_level)\u001b[0m\n\u001b[0;32m    437\u001b[0m         \u001b[38;5;28;01mraise\u001b[39;00m \u001b[38;5;167;01mValueError\u001b[39;00m(\u001b[38;5;124m\"\u001b[39m\u001b[38;5;124mCircular reference detected\u001b[39m\u001b[38;5;124m\"\u001b[39m)\n\u001b[0;32m    438\u001b[0m     markers[markerid] \u001b[38;5;241m=\u001b[39m o\n\u001b[1;32m--> 439\u001b[0m o \u001b[38;5;241m=\u001b[39m _default(o)\n\u001b[0;32m    440\u001b[0m \u001b[38;5;28;01myield from\u001b[39;00m _iterencode(o, _current_indent_level)\n\u001b[0;32m    441\u001b[0m \u001b[38;5;28;01mif\u001b[39;00m markers \u001b[38;5;129;01mis\u001b[39;00m \u001b[38;5;129;01mnot\u001b[39;00m \u001b[38;5;28;01mNone\u001b[39;00m:\n",
      "File \u001b[1;32m~\\anaconda3\\Lib\\json\\encoder.py:180\u001b[0m, in \u001b[0;36mJSONEncoder.default\u001b[1;34m(self, o)\u001b[0m\n\u001b[0;32m    161\u001b[0m \u001b[38;5;28;01mdef\u001b[39;00m \u001b[38;5;21mdefault\u001b[39m(\u001b[38;5;28mself\u001b[39m, o):\n\u001b[0;32m    162\u001b[0m \u001b[38;5;250m    \u001b[39m\u001b[38;5;124;03m\"\"\"Implement this method in a subclass such that it returns\u001b[39;00m\n\u001b[0;32m    163\u001b[0m \u001b[38;5;124;03m    a serializable object for ``o``, or calls the base implementation\u001b[39;00m\n\u001b[0;32m    164\u001b[0m \u001b[38;5;124;03m    (to raise a ``TypeError``).\u001b[39;00m\n\u001b[1;32m   (...)\u001b[0m\n\u001b[0;32m    178\u001b[0m \n\u001b[0;32m    179\u001b[0m \u001b[38;5;124;03m    \"\"\"\u001b[39;00m\n\u001b[1;32m--> 180\u001b[0m     \u001b[38;5;28;01mraise\u001b[39;00m \u001b[38;5;167;01mTypeError\u001b[39;00m(\u001b[38;5;124mf\u001b[39m\u001b[38;5;124m'\u001b[39m\u001b[38;5;124mObject of type \u001b[39m\u001b[38;5;132;01m{\u001b[39;00mo\u001b[38;5;241m.\u001b[39m\u001b[38;5;18m__class__\u001b[39m\u001b[38;5;241m.\u001b[39m\u001b[38;5;18m__name__\u001b[39m\u001b[38;5;132;01m}\u001b[39;00m\u001b[38;5;124m \u001b[39m\u001b[38;5;124m'\u001b[39m\n\u001b[0;32m    181\u001b[0m                     \u001b[38;5;124mf\u001b[39m\u001b[38;5;124m'\u001b[39m\u001b[38;5;124mis not JSON serializable\u001b[39m\u001b[38;5;124m'\u001b[39m)\n",
      "\u001b[1;31mTypeError\u001b[0m: Object of type Person is not JSON serializable"
     ]
    }
   ],
   "source": [
    "import json\n",
    "\n",
    "with open(\"demo.json\", \"w\") as f:\n",
    "    json.dump(person, f)"
   ]
  },
  {
   "cell_type": "markdown",
   "id": "b1ed4a62-0e3e-45e6-927c-cf6101ca97a6",
   "metadata": {},
   "source": [
    "```\n",
    "point to remember:\n",
    "------------------\n",
    "\n",
    "==> Json can't serialize our custom object. \n",
    "\n",
    "==> But we can give instructions to json how to serialize and deserialize through a function passed as argument inside dump function\n",
    "\n",
    "```"
   ]
  },
  {
   "cell_type": "code",
   "execution_count": 40,
   "id": "1b53cd96-e330-4238-be77-35eb807d95c6",
   "metadata": {},
   "outputs": [],
   "source": [
    "def show_object(person):\n",
    "\n",
    "    if isinstance(person, Person):\n",
    "        return \"{} {} age -> {} gender -> {}\".format(person.fname, person.lname, person.age, person.gender)\n",
    "\n",
    "import json\n",
    "\n",
    "with open(\"demo.json\", \"w\") as f:\n",
    "    json.dump(person, f, default=show_object)"
   ]
  },
  {
   "cell_type": "code",
   "execution_count": 41,
   "id": "52d515e9-191b-44df-81d3-40e1dfefe1b5",
   "metadata": {},
   "outputs": [
    {
     "name": "stdout",
     "output_type": "stream",
     "text": [
      "Ananth Teja age -> 25 gender -> Male\n",
      "<class 'str'>\n"
     ]
    }
   ],
   "source": [
    "import json\n",
    "\n",
    "with open(\"demo.json\", \"r\") as f:\n",
    "    data = json.load(f)\n",
    "    print(data)\n",
    "    print(type(data))"
   ]
  },
  {
   "cell_type": "markdown",
   "id": "eb16a46e-2306-4ee5-a45d-8e109a2b44be",
   "metadata": {},
   "source": [
    "```\n",
    "==> There is a problem attached to it. our custom object loses its properties and behaviour\n",
    "\n",
    "==> So, we came up with an alternative that helps to keep object properties and behaviour, and also does serialization and deserialization\n",
    "\n",
    "what is pickling and unpickling ???\n",
    "\n",
    "==> pickling   : Converts Python Objects to binary format\n",
    "\n",
    "==> Unpickling : Converts binary format to Python Objects \n",
    "\n",
    "```"
   ]
  },
  {
   "cell_type": "code",
   "execution_count": 44,
   "id": "d10902d2-7303-4a7b-b41d-2a2fdc5510c4",
   "metadata": {},
   "outputs": [],
   "source": [
    "class Person:\n",
    "\n",
    "    def __init__(self, name, role):\n",
    "        self.name = name\n",
    "        self.role = role\n",
    "\n",
    "    def display_info(self):\n",
    "        return f\"Hello, I am {self.name} and my role is {self.role}\"\n",
    "\n",
    "person = Person(\"Tony Stark\", \"Avenger\")"
   ]
  },
  {
   "cell_type": "code",
   "execution_count": 45,
   "id": "84ac0cda-bdcb-4715-be32-bb1a31feeb5c",
   "metadata": {},
   "outputs": [],
   "source": [
    "import pickle\n",
    "\n",
    "with open(\"person.pkl\", \"wb\") as f:\n",
    "    pickle.dump(person, f)"
   ]
  },
  {
   "cell_type": "code",
   "execution_count": 46,
   "id": "9d4b6300-b1cb-4fe1-b465-330c111fd9e0",
   "metadata": {},
   "outputs": [],
   "source": [
    "import pickle\n",
    "\n",
    "with open(\"person.pkl\", \"rb\") as f:\n",
    "    person_ob = pickle.load(f)"
   ]
  },
  {
   "cell_type": "code",
   "execution_count": 47,
   "id": "22b277c1-13e9-4ee9-9b39-aef588b4bdeb",
   "metadata": {},
   "outputs": [
    {
     "data": {
      "text/plain": [
       "'Hello, I am Tony Stark and my role is Avenger'"
      ]
     },
     "execution_count": 47,
     "metadata": {},
     "output_type": "execute_result"
    }
   ],
   "source": [
    "person_ob.display_info()"
   ]
  },
  {
   "cell_type": "markdown",
   "id": "a9bf2904-8660-462e-b611-f11faaef17a9",
   "metadata": {},
   "source": [
    "```\n",
    "JSON Vs Pickle:\n",
    "---------------\n",
    "\n",
    "==> Json   : It allows users to store info in human readable text format\n",
    "\n",
    "==> Pickle : It allows users to store info in binary format\n",
    "```"
   ]
  },
  {
   "cell_type": "code",
   "execution_count": null,
   "id": "445f0037-12fd-42bd-a0ab-a84e55661263",
   "metadata": {},
   "outputs": [],
   "source": []
  }
 ],
 "metadata": {
  "kernelspec": {
   "display_name": "Python 3 (ipykernel)",
   "language": "python",
   "name": "python3"
  },
  "language_info": {
   "codemirror_mode": {
    "name": "ipython",
    "version": 3
   },
   "file_extension": ".py",
   "mimetype": "text/x-python",
   "name": "python",
   "nbconvert_exporter": "python",
   "pygments_lexer": "ipython3",
   "version": "3.11.7"
  }
 },
 "nbformat": 4,
 "nbformat_minor": 5
}
