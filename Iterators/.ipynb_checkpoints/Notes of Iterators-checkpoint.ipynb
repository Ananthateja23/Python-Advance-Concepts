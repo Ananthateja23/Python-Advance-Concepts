{
 "cells": [
  {
   "cell_type": "markdown",
   "id": "bfc6bce6-24f8-4f91-9f85-b056da2b3f14",
   "metadata": {},
   "source": [
    "### ***Understanding the terms iteration, iterator and iterable:***"
   ]
  },
  {
   "cell_type": "markdown",
   "id": "19575d66-9ca6-4c72-876e-3552d15d7376",
   "metadata": {},
   "source": [
    "```\n",
    "Iteration:\n",
    "----------\n",
    "\n",
    "==> It is a general term for taking each item of something, one after another. Anytime you use a loop, explicit or implicit to go over a group of items that is iteration.\n",
    "\n",
    "num = [1, 2, 3]\n",
    "\n",
    "for i in num:\n",
    "\tprint(i)\n",
    "```"
   ]
  },
  {
   "cell_type": "code",
   "execution_count": 1,
   "id": "88906119-6adc-43f3-8ee3-d52f0e637e37",
   "metadata": {},
   "outputs": [
    {
     "name": "stdout",
     "output_type": "stream",
     "text": [
      "1 2 3 "
     ]
    }
   ],
   "source": [
    "num = [1, 2, 3]\n",
    "\n",
    "for i in num:\n",
    "    print(i, end=\" \")"
   ]
  },
  {
   "cell_type": "markdown",
   "id": "3feefc66-710f-42a9-aa7b-2ba2b319c0d0",
   "metadata": {},
   "source": [
    "```\n",
    "Iterator:\n",
    "---------\n",
    "\n",
    "==> An iterator is an object that allows the programmer to traverse through a sequence of data without having to store the entire data in the memory\n",
    "\n",
    "\n",
    "l = [x for x in range(1, 100001)]\n",
    "\n",
    "import sys\n",
    "print(sys.getsizeof(l))\n",
    "print(sys.getsizeof(l)/1024)\n",
    "\n",
    "for i in l:\n",
    "\tprint(i*2)\n",
    "\n",
    "\n",
    "x = range(1, 100001)\n",
    "\n",
    "\n",
    "\n",
    "import sys\n",
    "print(sys.getsizeof(x))\n",
    "print(sys.getsizeof(x)/1024)\n",
    "\n",
    "for i in x:\n",
    "\tprint(i*2)\n",
    "```"
   ]
  },
  {
   "cell_type": "code",
   "execution_count": 2,
   "id": "c0b5598d-5cc0-4861-a92d-79f195deb87d",
   "metadata": {},
   "outputs": [
    {
     "name": "stdout",
     "output_type": "stream",
     "text": [
      "memory size of list occupancy :  800984\n",
      "memory size of range occupancy :  48\n"
     ]
    }
   ],
   "source": [
    "l = [x for x in range(1, 100001)]\n",
    "\n",
    "import sys\n",
    "print(\"memory size of list occupancy : \", sys.getsizeof(l))\n",
    "\n",
    "x = range(1, 100001)\n",
    "print(\"memory size of range occupancy : \", sys.getsizeof(x))"
   ]
  },
  {
   "cell_type": "markdown",
   "id": "f90b1eb2-1000-4ef2-aecb-b00af9aa63a9",
   "metadata": {},
   "source": [
    "```\n",
    "iterable:\n",
    "---------\n",
    "\n",
    "==> iterable is an object, which one can iterate over\n",
    "    \n",
    "==> It generates an iterator when passed to iter() method\n",
    "\n",
    "\n",
    "l = [1, 2, 3]\n",
    "type(l)\n",
    "\n",
    "# l is iterable\n",
    "iter(l)\n",
    "\n",
    "\n",
    "type(iter(l))\n",
    "\n",
    "# iter(l) is iterator\n",
    "```"
   ]
  },
  {
   "cell_type": "code",
   "execution_count": 3,
   "id": "82157215-4ea0-4a55-96fa-14ec98cfbe86",
   "metadata": {},
   "outputs": [
    {
     "name": "stdout",
     "output_type": "stream",
     "text": [
      "<class 'list'>\n",
      "<list_iterator object at 0x0000021F321C7310>\n",
      "<class 'list_iterator'>\n"
     ]
    }
   ],
   "source": [
    "num_list = [1, 2, 3]\n",
    "\n",
    "# num_list is iterable\n",
    "print(type(num_list))\n",
    "\n",
    "# iter(num_list) is iterator\n",
    "print(iter(num_list))\n",
    "print(type(iter(num_list)))"
   ]
  },
  {
   "cell_type": "markdown",
   "id": "1fc50a48-4385-4965-8651-1e91e65af2f1",
   "metadata": {},
   "source": [
    "```\n",
    "points to remember:\n",
    "-------------------\n",
    "\n",
    "==> iteration : the process of traversing one by one item of an object\n",
    "\n",
    "==> iterable  : an object over we can perform iteration\n",
    "    \n",
    "==> iterator  : an object with the help of it we do iteration \n",
    "```"
   ]
  },
  {
   "cell_type": "markdown",
   "id": "859a1231-4167-4b27-9bf9-d7be691baa45",
   "metadata": {},
   "source": [
    "### ***Understanding the important points relates to iterator and iterable:***"
   ]
  },
  {
   "cell_type": "markdown",
   "id": "6a8a2252-8e78-4b14-a07c-844044e01de7",
   "metadata": {},
   "source": [
    "```\n",
    "(1) Every iterator is also iterable\n",
    "\n",
    "x = range(1, 1000001)\n",
    "\n",
    "import sys\n",
    "\n",
    "print(\"iterator\", sys.getsizeof(x))\n",
    "\n",
    "(2) Not all iterables are iterators\n",
    "\n",
    "l = [x for x in range(1, 1000001)]\n",
    "\n",
    "print(\"iterable\", sys.getsizeof(l))\n",
    "```"
   ]
  },
  {
   "cell_type": "markdown",
   "id": "5aa06f46-0cdd-4827-9a8b-7502500fe1d0",
   "metadata": {},
   "source": [
    "### ***How to identify what is iterator and iterable:***"
   ]
  },
  {
   "cell_type": "markdown",
   "id": "81b581d2-9301-4463-8bb7-549750581501",
   "metadata": {},
   "source": [
    "```\n",
    "let's understand the difference:\n",
    "--------------------------------\n",
    "\n",
    "==> every iterable has an iter function\n",
    "\n",
    "==> every iterator has both iter function as well as next function\n",
    "```"
   ]
  },
  {
   "cell_type": "markdown",
   "id": "aac0d564-5bbf-4770-b295-8eeddde22fc7",
   "metadata": {},
   "source": [
    "### ***Understanding the iterable and process to check the iterable:***"
   ]
  },
  {
   "cell_type": "code",
   "execution_count": 4,
   "id": "7eccb539-c2c5-40bb-bf5d-0d4051479582",
   "metadata": {},
   "outputs": [
    {
     "ename": "TypeError",
     "evalue": "'int' object is not iterable",
     "output_type": "error",
     "traceback": [
      "\u001b[1;31m---------------------------------------------------------------------------\u001b[0m",
      "\u001b[1;31mTypeError\u001b[0m                                 Traceback (most recent call last)",
      "Cell \u001b[1;32mIn[4], line 3\u001b[0m\n\u001b[0;32m      1\u001b[0m a \u001b[38;5;241m=\u001b[39m \u001b[38;5;241m10\u001b[39m\n\u001b[1;32m----> 3\u001b[0m \u001b[38;5;28;01mfor\u001b[39;00m i \u001b[38;5;129;01min\u001b[39;00m a:\n\u001b[0;32m      4\u001b[0m     \u001b[38;5;28mprint\u001b[39m(i)\n",
      "\u001b[1;31mTypeError\u001b[0m: 'int' object is not iterable"
     ]
    }
   ],
   "source": [
    "a = 10\n",
    "\n",
    "for i in a:\n",
    "    print(i)"
   ]
  },
  {
   "cell_type": "code",
   "execution_count": 7,
   "id": "547be972-ba61-4bb4-a303-89285d158773",
   "metadata": {},
   "outputs": [
    {
     "data": {
      "text/plain": [
       "['__abs__',\n",
       " '__add__',\n",
       " '__and__',\n",
       " '__bool__',\n",
       " '__ceil__',\n",
       " '__class__',\n",
       " '__delattr__',\n",
       " '__dir__',\n",
       " '__divmod__',\n",
       " '__doc__',\n",
       " '__eq__',\n",
       " '__float__',\n",
       " '__floor__',\n",
       " '__floordiv__',\n",
       " '__format__',\n",
       " '__ge__',\n",
       " '__getattribute__',\n",
       " '__getnewargs__',\n",
       " '__getstate__',\n",
       " '__gt__',\n",
       " '__hash__',\n",
       " '__index__',\n",
       " '__init__',\n",
       " '__init_subclass__',\n",
       " '__int__',\n",
       " '__invert__',\n",
       " '__le__',\n",
       " '__lshift__',\n",
       " '__lt__',\n",
       " '__mod__',\n",
       " '__mul__',\n",
       " '__ne__',\n",
       " '__neg__',\n",
       " '__new__',\n",
       " '__or__',\n",
       " '__pos__',\n",
       " '__pow__',\n",
       " '__radd__',\n",
       " '__rand__',\n",
       " '__rdivmod__',\n",
       " '__reduce__',\n",
       " '__reduce_ex__',\n",
       " '__repr__',\n",
       " '__rfloordiv__',\n",
       " '__rlshift__',\n",
       " '__rmod__',\n",
       " '__rmul__',\n",
       " '__ror__',\n",
       " '__round__',\n",
       " '__rpow__',\n",
       " '__rrshift__',\n",
       " '__rshift__',\n",
       " '__rsub__',\n",
       " '__rtruediv__',\n",
       " '__rxor__',\n",
       " '__setattr__',\n",
       " '__sizeof__',\n",
       " '__str__',\n",
       " '__sub__',\n",
       " '__subclasshook__',\n",
       " '__truediv__',\n",
       " '__trunc__',\n",
       " '__xor__',\n",
       " 'as_integer_ratio',\n",
       " 'bit_count',\n",
       " 'bit_length',\n",
       " 'conjugate',\n",
       " 'denominator',\n",
       " 'from_bytes',\n",
       " 'imag',\n",
       " 'numerator',\n",
       " 'real',\n",
       " 'to_bytes']"
      ]
     },
     "execution_count": 7,
     "metadata": {},
     "output_type": "execute_result"
    }
   ],
   "source": [
    "dir(a)"
   ]
  },
  {
   "cell_type": "code",
   "execution_count": 8,
   "id": "a5898d0b-f36f-43f3-a4c0-d91c7a466d46",
   "metadata": {},
   "outputs": [
    {
     "name": "stdout",
     "output_type": "stream",
     "text": [
      "1 2 3 "
     ]
    }
   ],
   "source": [
    "nums = [1, 2, 3]\n",
    "\n",
    "for num in nums:\n",
    "    print(num, end=\" \")"
   ]
  },
  {
   "cell_type": "code",
   "execution_count": 10,
   "id": "b8a44d06-4987-4de9-92f3-20baaa27f3d5",
   "metadata": {},
   "outputs": [
    {
     "data": {
      "text/plain": [
       "['__add__',\n",
       " '__class__',\n",
       " '__class_getitem__',\n",
       " '__contains__',\n",
       " '__delattr__',\n",
       " '__delitem__',\n",
       " '__dir__',\n",
       " '__doc__',\n",
       " '__eq__',\n",
       " '__format__',\n",
       " '__ge__',\n",
       " '__getattribute__',\n",
       " '__getitem__',\n",
       " '__getstate__',\n",
       " '__gt__',\n",
       " '__hash__',\n",
       " '__iadd__',\n",
       " '__imul__',\n",
       " '__init__',\n",
       " '__init_subclass__',\n",
       " '__iter__',\n",
       " '__le__',\n",
       " '__len__',\n",
       " '__lt__',\n",
       " '__mul__',\n",
       " '__ne__',\n",
       " '__new__',\n",
       " '__reduce__',\n",
       " '__reduce_ex__',\n",
       " '__repr__',\n",
       " '__reversed__',\n",
       " '__rmul__',\n",
       " '__setattr__',\n",
       " '__setitem__',\n",
       " '__sizeof__',\n",
       " '__str__',\n",
       " '__subclasshook__',\n",
       " 'append',\n",
       " 'clear',\n",
       " 'copy',\n",
       " 'count',\n",
       " 'extend',\n",
       " 'index',\n",
       " 'insert',\n",
       " 'pop',\n",
       " 'remove',\n",
       " 'reverse',\n",
       " 'sort']"
      ]
     },
     "execution_count": 10,
     "metadata": {},
     "output_type": "execute_result"
    }
   ],
   "source": [
    "dir(nums)"
   ]
  },
  {
   "cell_type": "code",
   "execution_count": 11,
   "id": "542b5f64-b291-4637-aa59-f1e051353c90",
   "metadata": {},
   "outputs": [
    {
     "name": "stdout",
     "output_type": "stream",
     "text": [
      "1 2 3 "
     ]
    }
   ],
   "source": [
    "tnums = 1, 2, 3\n",
    "\n",
    "for tnum in tnums:\n",
    "    print(tnum, end=\" \")"
   ]
  },
  {
   "cell_type": "code",
   "execution_count": 12,
   "id": "7f9c5e7a-54dc-4703-ba0b-ee14842cb900",
   "metadata": {},
   "outputs": [
    {
     "data": {
      "text/plain": [
       "['__add__',\n",
       " '__class__',\n",
       " '__class_getitem__',\n",
       " '__contains__',\n",
       " '__delattr__',\n",
       " '__dir__',\n",
       " '__doc__',\n",
       " '__eq__',\n",
       " '__format__',\n",
       " '__ge__',\n",
       " '__getattribute__',\n",
       " '__getitem__',\n",
       " '__getnewargs__',\n",
       " '__getstate__',\n",
       " '__gt__',\n",
       " '__hash__',\n",
       " '__init__',\n",
       " '__init_subclass__',\n",
       " '__iter__',\n",
       " '__le__',\n",
       " '__len__',\n",
       " '__lt__',\n",
       " '__mul__',\n",
       " '__ne__',\n",
       " '__new__',\n",
       " '__reduce__',\n",
       " '__reduce_ex__',\n",
       " '__repr__',\n",
       " '__rmul__',\n",
       " '__setattr__',\n",
       " '__sizeof__',\n",
       " '__str__',\n",
       " '__subclasshook__',\n",
       " 'count',\n",
       " 'index']"
      ]
     },
     "execution_count": 12,
     "metadata": {},
     "output_type": "execute_result"
    }
   ],
   "source": [
    "dir(tnums)"
   ]
  },
  {
   "cell_type": "code",
   "execution_count": 13,
   "id": "c6cb177b-2714-4311-9bb4-f6481d0052c9",
   "metadata": {},
   "outputs": [
    {
     "ename": "TypeError",
     "evalue": "set expected at most 1 argument, got 3",
     "output_type": "error",
     "traceback": [
      "\u001b[1;31m---------------------------------------------------------------------------\u001b[0m",
      "\u001b[1;31mTypeError\u001b[0m                                 Traceback (most recent call last)",
      "Cell \u001b[1;32mIn[13], line 1\u001b[0m\n\u001b[1;32m----> 1\u001b[0m snums \u001b[38;5;241m=\u001b[39m \u001b[38;5;28mset\u001b[39m(\u001b[38;5;241m1\u001b[39m, \u001b[38;5;241m2\u001b[39m, \u001b[38;5;241m3\u001b[39m)\n\u001b[0;32m      3\u001b[0m \u001b[38;5;28;01mfor\u001b[39;00m snum \u001b[38;5;129;01min\u001b[39;00m snums:\n\u001b[0;32m      4\u001b[0m     \u001b[38;5;28mprint\u001b[39m(snum, end\u001b[38;5;241m=\u001b[39m\u001b[38;5;124m\"\u001b[39m\u001b[38;5;124m \u001b[39m\u001b[38;5;124m\"\u001b[39m)\n",
      "\u001b[1;31mTypeError\u001b[0m: set expected at most 1 argument, got 3"
     ]
    }
   ],
   "source": [
    "snums = set(1, 2, 3)\n",
    "\n",
    "for snum in snums:\n",
    "    print(snum, end=\" \")"
   ]
  },
  {
   "cell_type": "code",
   "execution_count": 14,
   "id": "d7004718-0704-4316-bf9c-ce4bfd2dc111",
   "metadata": {},
   "outputs": [
    {
     "name": "stdout",
     "output_type": "stream",
     "text": [
      "1 2 3 "
     ]
    }
   ],
   "source": [
    "snums = set((1, 2, 3))\n",
    "\n",
    "for snum in snums:\n",
    "    print(snum, end=\" \")"
   ]
  },
  {
   "cell_type": "code",
   "execution_count": 15,
   "id": "ca029a5e-02b2-41f2-9bcb-1b76401b6d60",
   "metadata": {},
   "outputs": [
    {
     "data": {
      "text/plain": [
       "['__and__',\n",
       " '__class__',\n",
       " '__class_getitem__',\n",
       " '__contains__',\n",
       " '__delattr__',\n",
       " '__dir__',\n",
       " '__doc__',\n",
       " '__eq__',\n",
       " '__format__',\n",
       " '__ge__',\n",
       " '__getattribute__',\n",
       " '__getstate__',\n",
       " '__gt__',\n",
       " '__hash__',\n",
       " '__iand__',\n",
       " '__init__',\n",
       " '__init_subclass__',\n",
       " '__ior__',\n",
       " '__isub__',\n",
       " '__iter__',\n",
       " '__ixor__',\n",
       " '__le__',\n",
       " '__len__',\n",
       " '__lt__',\n",
       " '__ne__',\n",
       " '__new__',\n",
       " '__or__',\n",
       " '__rand__',\n",
       " '__reduce__',\n",
       " '__reduce_ex__',\n",
       " '__repr__',\n",
       " '__ror__',\n",
       " '__rsub__',\n",
       " '__rxor__',\n",
       " '__setattr__',\n",
       " '__sizeof__',\n",
       " '__str__',\n",
       " '__sub__',\n",
       " '__subclasshook__',\n",
       " '__xor__',\n",
       " 'add',\n",
       " 'clear',\n",
       " 'copy',\n",
       " 'difference',\n",
       " 'difference_update',\n",
       " 'discard',\n",
       " 'intersection',\n",
       " 'intersection_update',\n",
       " 'isdisjoint',\n",
       " 'issubset',\n",
       " 'issuperset',\n",
       " 'pop',\n",
       " 'remove',\n",
       " 'symmetric_difference',\n",
       " 'symmetric_difference_update',\n",
       " 'union',\n",
       " 'update']"
      ]
     },
     "execution_count": 15,
     "metadata": {},
     "output_type": "execute_result"
    }
   ],
   "source": [
    "dir(snums)"
   ]
  },
  {
   "cell_type": "code",
   "execution_count": 17,
   "id": "6bc6d7ae-b0d9-4206-894b-643c1c551c31",
   "metadata": {},
   "outputs": [
    {
     "name": "stdout",
     "output_type": "stream",
     "text": [
      "1 2 "
     ]
    },
    {
     "data": {
      "text/plain": [
       "['__class__',\n",
       " '__class_getitem__',\n",
       " '__contains__',\n",
       " '__delattr__',\n",
       " '__delitem__',\n",
       " '__dir__',\n",
       " '__doc__',\n",
       " '__eq__',\n",
       " '__format__',\n",
       " '__ge__',\n",
       " '__getattribute__',\n",
       " '__getitem__',\n",
       " '__getstate__',\n",
       " '__gt__',\n",
       " '__hash__',\n",
       " '__init__',\n",
       " '__init_subclass__',\n",
       " '__ior__',\n",
       " '__iter__',\n",
       " '__le__',\n",
       " '__len__',\n",
       " '__lt__',\n",
       " '__ne__',\n",
       " '__new__',\n",
       " '__or__',\n",
       " '__reduce__',\n",
       " '__reduce_ex__',\n",
       " '__repr__',\n",
       " '__reversed__',\n",
       " '__ror__',\n",
       " '__setattr__',\n",
       " '__setitem__',\n",
       " '__sizeof__',\n",
       " '__str__',\n",
       " '__subclasshook__',\n",
       " 'clear',\n",
       " 'copy',\n",
       " 'fromkeys',\n",
       " 'get',\n",
       " 'items',\n",
       " 'keys',\n",
       " 'pop',\n",
       " 'popitem',\n",
       " 'setdefault',\n",
       " 'update',\n",
       " 'values']"
      ]
     },
     "execution_count": 17,
     "metadata": {},
     "output_type": "execute_result"
    }
   ],
   "source": [
    "dnums = {1: 'a', 2: 'b'}\n",
    "\n",
    "for dnum in dnums:\n",
    "    print(dnum, end=\" \")\n",
    "\n",
    "dir(dnums)"
   ]
  },
  {
   "cell_type": "markdown",
   "id": "f023e9cb-4b4a-4ffc-841d-3d9157308fe0",
   "metadata": {},
   "source": [
    "### ***Understanding the iterator and process to check the iterator:***"
   ]
  },
  {
   "cell_type": "code",
   "execution_count": 18,
   "id": "18637062-534e-4e11-9370-0a126afec645",
   "metadata": {},
   "outputs": [
    {
     "name": "stdout",
     "output_type": "stream",
     "text": [
      "10\n",
      "20\n",
      "30\n"
     ]
    }
   ],
   "source": [
    "num_list = [10, 20, 30]\n",
    "\n",
    "for num in num_list:\n",
    "    print(num)"
   ]
  },
  {
   "cell_type": "code",
   "execution_count": 21,
   "id": "5f5010cf-d568-4b74-bfe1-0fb0250e82f4",
   "metadata": {},
   "outputs": [
    {
     "data": {
      "text/plain": [
       "['__add__',\n",
       " '__class__',\n",
       " '__class_getitem__',\n",
       " '__contains__',\n",
       " '__delattr__',\n",
       " '__delitem__',\n",
       " '__dir__',\n",
       " '__doc__',\n",
       " '__eq__',\n",
       " '__format__',\n",
       " '__ge__',\n",
       " '__getattribute__',\n",
       " '__getitem__',\n",
       " '__getstate__',\n",
       " '__gt__',\n",
       " '__hash__',\n",
       " '__iadd__',\n",
       " '__imul__',\n",
       " '__init__',\n",
       " '__init_subclass__',\n",
       " '__iter__',\n",
       " '__le__',\n",
       " '__len__',\n",
       " '__lt__',\n",
       " '__mul__',\n",
       " '__ne__',\n",
       " '__new__',\n",
       " '__reduce__',\n",
       " '__reduce_ex__',\n",
       " '__repr__',\n",
       " '__reversed__',\n",
       " '__rmul__',\n",
       " '__setattr__',\n",
       " '__setitem__',\n",
       " '__sizeof__',\n",
       " '__str__',\n",
       " '__subclasshook__',\n",
       " 'append',\n",
       " 'clear',\n",
       " 'copy',\n",
       " 'count',\n",
       " 'extend',\n",
       " 'index',\n",
       " 'insert',\n",
       " 'pop',\n",
       " 'remove',\n",
       " 'reverse',\n",
       " 'sort']"
      ]
     },
     "execution_count": 21,
     "metadata": {},
     "output_type": "execute_result"
    }
   ],
   "source": [
    "# num_list is iterable\n",
    "dir(num_list)"
   ]
  },
  {
   "cell_type": "code",
   "execution_count": 22,
   "id": "e397d3ea-3414-41e7-bfbf-adf1e793aa26",
   "metadata": {},
   "outputs": [
    {
     "data": {
      "text/plain": [
       "['__class__',\n",
       " '__delattr__',\n",
       " '__dir__',\n",
       " '__doc__',\n",
       " '__eq__',\n",
       " '__format__',\n",
       " '__ge__',\n",
       " '__getattribute__',\n",
       " '__getstate__',\n",
       " '__gt__',\n",
       " '__hash__',\n",
       " '__init__',\n",
       " '__init_subclass__',\n",
       " '__iter__',\n",
       " '__le__',\n",
       " '__length_hint__',\n",
       " '__lt__',\n",
       " '__ne__',\n",
       " '__new__',\n",
       " '__next__',\n",
       " '__reduce__',\n",
       " '__reduce_ex__',\n",
       " '__repr__',\n",
       " '__setattr__',\n",
       " '__setstate__',\n",
       " '__sizeof__',\n",
       " '__str__',\n",
       " '__subclasshook__']"
      ]
     },
     "execution_count": 22,
     "metadata": {},
     "output_type": "execute_result"
    }
   ],
   "source": [
    "# iter(num_list) is iterator\n",
    "iter_num = iter(num_list)\n",
    "dir(iter_num)"
   ]
  },
  {
   "cell_type": "markdown",
   "id": "06195307-b44c-4185-a866-4af1ca141490",
   "metadata": {},
   "source": [
    "### ***Understanding how for loop works:***"
   ]
  },
  {
   "cell_type": "code",
   "execution_count": 23,
   "id": "d9399159-964e-455a-8952-c0c03416367e",
   "metadata": {},
   "outputs": [
    {
     "name": "stdout",
     "output_type": "stream",
     "text": [
      "100 2000 300 "
     ]
    }
   ],
   "source": [
    "values = [100, 2000, 300]\n",
    "\n",
    "for value in values:\n",
    "    print(value, end=\" \")"
   ]
  },
  {
   "cell_type": "markdown",
   "id": "3396446b-6145-4541-b092-a3c0820fd1ad",
   "metadata": {},
   "source": [
    "```\n",
    "==> how python automatically takes and bring all items one by one and printing??? \n",
    "\n",
    "==> when we write for loop syntax, python does two things.\n",
    "    \n",
    "==> step1: fetches the iterator\n",
    "    \n",
    "==> step2: using the iterator, we call next function\n",
    "    \n",
    "==> next always tells the state of an iterator means that now you are over which item\n",
    "    \n",
    "==> using next function, it prints all the items inside list\n",
    "```"
   ]
  },
  {
   "cell_type": "code",
   "execution_count": 24,
   "id": "c6d2c0fb-8233-4906-8126-20d358db1431",
   "metadata": {},
   "outputs": [
    {
     "name": "stdout",
     "output_type": "stream",
     "text": [
      "100\n",
      "2000\n",
      "300\n"
     ]
    },
    {
     "ename": "StopIteration",
     "evalue": "",
     "output_type": "error",
     "traceback": [
      "\u001b[1;31m---------------------------------------------------------------------------\u001b[0m",
      "\u001b[1;31mStopIteration\u001b[0m                             Traceback (most recent call last)",
      "Cell \u001b[1;32mIn[24], line 10\u001b[0m\n\u001b[0;32m      8\u001b[0m \u001b[38;5;28mprint\u001b[39m(\u001b[38;5;28mnext\u001b[39m(iter_val))\n\u001b[0;32m      9\u001b[0m \u001b[38;5;28mprint\u001b[39m(\u001b[38;5;28mnext\u001b[39m(iter_val))\n\u001b[1;32m---> 10\u001b[0m \u001b[38;5;28mprint\u001b[39m(\u001b[38;5;28mnext\u001b[39m(iter_val))\n",
      "\u001b[1;31mStopIteration\u001b[0m: "
     ]
    }
   ],
   "source": [
    "values = [100, 2000, 300]\n",
    "\n",
    "# fetch the iterator\n",
    "iter_val = iter(values)\n",
    "\n",
    "# calling next function\n",
    "print(next(iter_val))\n",
    "print(next(iter_val))\n",
    "print(next(iter_val))\n",
    "print(next(iter_val))"
   ]
  },
  {
   "cell_type": "markdown",
   "id": "5b1386b0-9c6f-4733-8eb4-c363a22badc0",
   "metadata": {},
   "source": [
    "### ***Creating own for loop***"
   ]
  },
  {
   "cell_type": "code",
   "execution_count": 25,
   "id": "fa0008b5-f96d-4930-ad65-e8213161c089",
   "metadata": {},
   "outputs": [],
   "source": [
    "def my_own_for_loop(iterable):\n",
    "    iterator = iter(iterable)\n",
    "\n",
    "    while True:\n",
    "        try:\n",
    "            print(next(iterator))\n",
    "        except StopIteration:\n",
    "            break\n",
    "\n",
    "list_nums = [10, 20, 30]\n",
    "tup_nums = 100, 200, 300\n",
    "set_nums = {10, 20, 30}\n",
    "dict_nums = {'a': 100, 'b': 200, 'c': 300}"
   ]
  },
  {
   "cell_type": "code",
   "execution_count": 26,
   "id": "ee4ee455-e385-4a73-8947-68f781c45a59",
   "metadata": {},
   "outputs": [
    {
     "name": "stdout",
     "output_type": "stream",
     "text": [
      "10\n",
      "20\n",
      "30\n"
     ]
    }
   ],
   "source": [
    "my_own_for_loop(list_nums)"
   ]
  },
  {
   "cell_type": "code",
   "execution_count": 27,
   "id": "f087dedd-6bdd-4671-bddd-13072371ab66",
   "metadata": {},
   "outputs": [
    {
     "name": "stdout",
     "output_type": "stream",
     "text": [
      "100\n",
      "200\n",
      "300\n"
     ]
    }
   ],
   "source": [
    "my_own_for_loop(tup_nums)"
   ]
  },
  {
   "cell_type": "code",
   "execution_count": 28,
   "id": "ae645481-0c09-4905-aaa6-2b94d4efa730",
   "metadata": {},
   "outputs": [
    {
     "name": "stdout",
     "output_type": "stream",
     "text": [
      "10\n",
      "20\n",
      "30\n"
     ]
    }
   ],
   "source": [
    "my_own_for_loop(set_nums)"
   ]
  },
  {
   "cell_type": "code",
   "execution_count": 29,
   "id": "763253c3-b5b6-4a99-b9dc-437d1bcb4765",
   "metadata": {},
   "outputs": [
    {
     "name": "stdout",
     "output_type": "stream",
     "text": [
      "a\n",
      "b\n",
      "c\n"
     ]
    }
   ],
   "source": [
    "my_own_for_loop(dict_nums)"
   ]
  },
  {
   "cell_type": "markdown",
   "id": "12ef81a9-ed5d-4c32-883d-732e2c778cec",
   "metadata": {},
   "source": [
    "### ***Confusing point:***"
   ]
  },
  {
   "cell_type": "code",
   "execution_count": 30,
   "id": "175ac2a6-6fd0-498d-8544-c61b9686a78e",
   "metadata": {},
   "outputs": [
    {
     "name": "stdout",
     "output_type": "stream",
     "text": [
      "2333016767456 address of iterator1\n",
      "2333016767456 address of iterator2\n"
     ]
    }
   ],
   "source": [
    "nums = [100, 200, 300]\n",
    "\n",
    "iter_ob1 = iter(nums)\n",
    "print(id(iter_ob1), \"address of iterator1\")\n",
    "\n",
    "iter_ob2 = iter(iter_ob1)\n",
    "print(id(iter_ob2), \"address of iterator2\")"
   ]
  },
  {
   "cell_type": "markdown",
   "id": "0befd509-9e1e-4510-887e-5e85ac378cc6",
   "metadata": {},
   "source": [
    "```\n",
    "what is the benefit of iterable and iterator???\n",
    "\n",
    "==> Assume we create our own object, now we want to add iteration feature over the object\n",
    "    \n",
    "==> To add that feature, we should have the idea of iterable and iterator\n",
    "```"
   ]
  },
  {
   "cell_type": "markdown",
   "id": "7e4f327f-f0f3-4dca-8310-3d8dd1223e12",
   "metadata": {},
   "source": [
    "### ***Creating own range function:***"
   ]
  },
  {
   "cell_type": "code",
   "execution_count": 31,
   "id": "9fc760d9-6a65-4069-bf07-f0a6736c25b3",
   "metadata": {},
   "outputs": [],
   "source": [
    "class my_range:\n",
    "    def __init__(self, start, end):\n",
    "        self.start = start\n",
    "        self.end = end\n",
    "\n",
    "    def __iter__(self):\n",
    "        return my_range_iterator(self)\n",
    "\n",
    "class my_range_iterator:\n",
    "    def __init__(self, iterable_obj):\n",
    "        self.iterable = iterable_obj\n",
    "\n",
    "    def __iter__(self):\n",
    "        return self\n",
    "\n",
    "    def __next__(self):\n",
    "        if self.iterable.start >= self.iterable.end:\n",
    "            raise StopIteration\n",
    "        current = self.iterable.start\n",
    "        self.iterable.start += 1\n",
    "        return current"
   ]
  },
  {
   "cell_type": "code",
   "execution_count": 32,
   "id": "6dc62c23-fbb5-4eae-9487-b5854f7b83ac",
   "metadata": {},
   "outputs": [
    {
     "name": "stdout",
     "output_type": "stream",
     "text": [
      "1\n",
      "2\n",
      "3\n",
      "4\n",
      "5\n",
      "6\n",
      "7\n",
      "8\n",
      "9\n",
      "10\n"
     ]
    }
   ],
   "source": [
    "for num in my_range(1, 11):\n",
    "    print(num)"
   ]
  },
  {
   "cell_type": "code",
   "execution_count": 33,
   "id": "070b4de3-68d4-4924-a989-5aca7f664ccc",
   "metadata": {},
   "outputs": [],
   "source": [
    "x = my_range(1, 11)"
   ]
  },
  {
   "cell_type": "code",
   "execution_count": 34,
   "id": "9b1afbda-5a43-4b4d-b8ac-3a46ec323535",
   "metadata": {},
   "outputs": [
    {
     "data": {
      "text/plain": [
       "<__main__.my_range at 0x21f33575cd0>"
      ]
     },
     "execution_count": 34,
     "metadata": {},
     "output_type": "execute_result"
    }
   ],
   "source": [
    "x"
   ]
  },
  {
   "cell_type": "code",
   "execution_count": 35,
   "id": "70548974-1469-4eba-be3f-fd2f41cb9fb8",
   "metadata": {},
   "outputs": [
    {
     "data": {
      "text/plain": [
       "__main__.my_range"
      ]
     },
     "execution_count": 35,
     "metadata": {},
     "output_type": "execute_result"
    }
   ],
   "source": [
    "type(x)"
   ]
  },
  {
   "cell_type": "code",
   "execution_count": 36,
   "id": "2d739889-f353-4c7a-a9fa-d9049588358b",
   "metadata": {},
   "outputs": [
    {
     "data": {
      "text/plain": [
       "<__main__.my_range_iterator at 0x21f32221190>"
      ]
     },
     "execution_count": 36,
     "metadata": {},
     "output_type": "execute_result"
    }
   ],
   "source": [
    "iter(x)"
   ]
  },
  {
   "cell_type": "code",
   "execution_count": 37,
   "id": "ed51685e-681e-4a39-85db-7d399d180b53",
   "metadata": {},
   "outputs": [
    {
     "data": {
      "text/plain": [
       "__main__.my_range_iterator"
      ]
     },
     "execution_count": 37,
     "metadata": {},
     "output_type": "execute_result"
    }
   ],
   "source": [
    "type(iter(x))"
   ]
  },
  {
   "cell_type": "code",
   "execution_count": null,
   "id": "a902f743-abb5-4fd3-a1a8-d0439e582a6c",
   "metadata": {},
   "outputs": [],
   "source": []
  }
 ],
 "metadata": {
  "kernelspec": {
   "display_name": "Python 3 (ipykernel)",
   "language": "python",
   "name": "python3"
  },
  "language_info": {
   "codemirror_mode": {
    "name": "ipython",
    "version": 3
   },
   "file_extension": ".py",
   "mimetype": "text/x-python",
   "name": "python",
   "nbconvert_exporter": "python",
   "pygments_lexer": "ipython3",
   "version": "3.11.7"
  }
 },
 "nbformat": 4,
 "nbformat_minor": 5
}
