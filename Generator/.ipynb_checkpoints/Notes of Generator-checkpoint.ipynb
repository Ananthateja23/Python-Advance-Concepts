{
 "cells": [
  {
   "cell_type": "markdown",
   "id": "1b544311-495f-438d-9a43-1a26e7cc6c13",
   "metadata": {},
   "source": [
    "```\n",
    "Generators:\n",
    "-----------\n",
    "\n",
    "==> python generators are simple way of creating iterators\n",
    "\n",
    "==> If you remember, to make a simple range function we had to write this much code. It looks clutter for python. So it came up with an alternate that works same as iterator\n",
    "\n",
    "==> Instead of writing a large piece of code. how can we write a function that works and execute same as iterator and also provide the same output\n",
    "\n",
    "==> how is it different from the normal function???\n",
    "```"
   ]
  },
  {
   "cell_type": "code",
   "execution_count": 1,
   "id": "13534585-ef03-43b9-a1ec-a025e6487fe5",
   "metadata": {},
   "outputs": [],
   "source": [
    "# iterable\n",
    "class my_range:\n",
    "    def __init__(self, start, end):\n",
    "        self.start = start\n",
    "        self.end = end\n",
    "\n",
    "    def __iter__(self):\n",
    "        return my_range_iterator(self)\n",
    "\n",
    "\n",
    "# iterator\n",
    "class my_range_iterator:\n",
    "    def __init__(self, iterable_obj):\n",
    "        self.iterable = iterable_obj\n",
    "\n",
    "    def __iter__(self):\n",
    "        return self\n",
    "    def __next__(self):\n",
    "        if self.iterable.start >= self.iterable.end:\n",
    "            raise StopIteration\n",
    "        current = self.iterable.start\n",
    "        self.iterable.start += 1\n",
    "        return current"
   ]
  },
  {
   "cell_type": "code",
   "execution_count": 3,
   "id": "c803e03e-1c35-44df-819b-85d88cbde9e1",
   "metadata": {},
   "outputs": [
    {
     "name": "stdout",
     "output_type": "stream",
     "text": [
      "memory size of list :  800984\n",
      "memory size of range :  48\n"
     ]
    }
   ],
   "source": [
    "l = [x for x in range(100000)]\n",
    "\n",
    "# for i in l:\n",
    "# \tprint(i**2)\n",
    "\n",
    "import sys\n",
    "print(\"memory size of list : \", sys.getsizeof(l))\n",
    "\n",
    "x = range(100000)\n",
    "\n",
    "# for i in x:\n",
    "# \tprint(i)\n",
    "\n",
    "print(\"memory size of range : \", sys.getsizeof(x))\n"
   ]
  },
  {
   "cell_type": "markdown",
   "id": "a7a9e300-dbd7-4ff0-8608-f885a978782b",
   "metadata": {},
   "source": [
    "```\n",
    "simple example of python generator:\n",
    "-----------------------------------\n",
    "\n",
    "==> python generator is a function, but there is a small difference in it\n",
    "\n",
    "==> generator is a function and it don't contain return statement instead it had yield statement\n",
    "\n",
    "==> generator is a function and it in return gives generator object\n",
    "\n",
    "==> use of generator object is that through calling next function over generator object again and again we can print all the yield statements inside function\n",
    "\n",
    "==> we can also print the yield statements through loops\n",
    "```"
   ]
  },
  {
   "cell_type": "code",
   "execution_count": 4,
   "id": "db1fcd8c-2cad-44dd-acf9-1b9c69249fbe",
   "metadata": {},
   "outputs": [
    {
     "name": "stdout",
     "output_type": "stream",
     "text": [
      "<generator object gen_demo at 0x0000027C6799E610>\n"
     ]
    }
   ],
   "source": [
    "def gen_demo():\n",
    "    yield \"first statement\"\n",
    "    yield \"second statement\"\n",
    "    yield \"third statement\"\n",
    "\n",
    "gen = gen_demo()\n",
    "\n",
    "print(gen)"
   ]
  },
  {
   "cell_type": "code",
   "execution_count": 5,
   "id": "5c89d748-ce3f-4b83-8d28-974de1072f65",
   "metadata": {},
   "outputs": [
    {
     "name": "stdout",
     "output_type": "stream",
     "text": [
      "first statement\n",
      "second statement\n",
      "third statement\n"
     ]
    },
    {
     "ename": "StopIteration",
     "evalue": "",
     "output_type": "error",
     "traceback": [
      "\u001b[1;31m---------------------------------------------------------------------------\u001b[0m",
      "\u001b[1;31mStopIteration\u001b[0m                             Traceback (most recent call last)",
      "Cell \u001b[1;32mIn[5], line 4\u001b[0m\n\u001b[0;32m      2\u001b[0m \u001b[38;5;28mprint\u001b[39m(\u001b[38;5;28mnext\u001b[39m(gen))\n\u001b[0;32m      3\u001b[0m \u001b[38;5;28mprint\u001b[39m(\u001b[38;5;28mnext\u001b[39m(gen))\n\u001b[1;32m----> 4\u001b[0m \u001b[38;5;28mprint\u001b[39m(\u001b[38;5;28mnext\u001b[39m(gen))\n",
      "\u001b[1;31mStopIteration\u001b[0m: "
     ]
    }
   ],
   "source": [
    "print(next(gen))\n",
    "print(next(gen))\n",
    "print(next(gen))\n",
    "print(next(gen))"
   ]
  },
  {
   "cell_type": "code",
   "execution_count": 7,
   "id": "b7986d24-3890-4a0b-b521-ca5ed2f2e31a",
   "metadata": {},
   "outputs": [
    {
     "name": "stdout",
     "output_type": "stream",
     "text": [
      "<generator object gen_demo at 0x0000027C68607690>\n"
     ]
    }
   ],
   "source": [
    "def gen_demo():\n",
    "    yield \"first statement\"\n",
    "    yield \"second statement\"\n",
    "    yield \"third statement\"\n",
    "\n",
    "gen = gen_demo()\n",
    "\n",
    "print(gen)"
   ]
  },
  {
   "cell_type": "code",
   "execution_count": 8,
   "id": "89d32389-62ab-4cb7-bb22-f3306ab20bfd",
   "metadata": {},
   "outputs": [
    {
     "name": "stdout",
     "output_type": "stream",
     "text": [
      "first statement\n",
      "second statement\n",
      "third statement\n"
     ]
    }
   ],
   "source": [
    "for i in gen:\n",
    "    print(i)"
   ]
  },
  {
   "cell_type": "markdown",
   "id": "98960088-7420-4eb7-a091-2e1c42bf179a",
   "metadata": {},
   "source": [
    "```\n",
    "what is the difference between yield and return???\n",
    "\n",
    "==> a normal function after running once, it came out from the memory\n",
    "\n",
    "==> generator is a special function and it temporarily pause the execution and also remember its state and values of variable\n",
    "    \n",
    "==> If we call the second time, it remember the state of first time and work ahead from there\n",
    "```"
   ]
  },
  {
   "cell_type": "markdown",
   "id": "ca7198bf-8828-4b81-a177-e441fdb9f5cf",
   "metadata": {},
   "source": [
    "### ***Example of generator:***"
   ]
  },
  {
   "cell_type": "code",
   "execution_count": 9,
   "id": "b6b5c512-5e8b-449c-87f2-6b072349df0c",
   "metadata": {},
   "outputs": [],
   "source": [
    "def square(num):\n",
    "    for i in range(1, num+1):\n",
    "        yield i**2\n",
    "\n",
    "gen = square(10)"
   ]
  },
  {
   "cell_type": "code",
   "execution_count": 10,
   "id": "9b5264d7-5ff6-46bb-99fc-360dc434b42f",
   "metadata": {},
   "outputs": [
    {
     "name": "stdout",
     "output_type": "stream",
     "text": [
      "1\n",
      "4\n",
      "9\n"
     ]
    }
   ],
   "source": [
    "print(next(gen))\n",
    "print(next(gen))\n",
    "print(next(gen))"
   ]
  },
  {
   "cell_type": "code",
   "execution_count": 11,
   "id": "337af3d0-d197-4f65-ac66-96b00d451691",
   "metadata": {},
   "outputs": [
    {
     "name": "stdout",
     "output_type": "stream",
     "text": [
      "16\n",
      "25\n",
      "36\n",
      "49\n",
      "64\n",
      "81\n",
      "100\n"
     ]
    }
   ],
   "source": [
    "for i in gen:\n",
    "    print(i)"
   ]
  },
  {
   "cell_type": "markdown",
   "id": "051051b9-7a3b-49fb-bab9-fb39c2da443d",
   "metadata": {},
   "source": [
    "### ***Range function using generator:***"
   ]
  },
  {
   "cell_type": "code",
   "execution_count": 12,
   "id": "cf5e9678-0c1c-4879-9ebf-c8728e0cd114",
   "metadata": {},
   "outputs": [
    {
     "name": "stdout",
     "output_type": "stream",
     "text": [
      "15\n",
      "16\n",
      "17\n",
      "18\n",
      "19\n",
      "20\n",
      "21\n",
      "22\n",
      "23\n",
      "24\n",
      "25\n"
     ]
    }
   ],
   "source": [
    "def my_rane(start, end):\n",
    "    for i in range(start, end):\n",
    "        yield i\n",
    "\n",
    "gen = my_range(15, 26)\n",
    "\n",
    "for i in gen:\n",
    "    print(i)"
   ]
  },
  {
   "cell_type": "code",
   "execution_count": 13,
   "id": "61dfde70-4e89-43a0-b2aa-3776c86cf14c",
   "metadata": {},
   "outputs": [
    {
     "name": "stdout",
     "output_type": "stream",
     "text": [
      "15\n",
      "16\n",
      "17\n",
      "18\n",
      "19\n",
      "20\n",
      "21\n",
      "22\n",
      "23\n",
      "24\n",
      "25\n"
     ]
    }
   ],
   "source": [
    "for i in my_range(15, 26):\n",
    "    print(i)"
   ]
  },
  {
   "cell_type": "markdown",
   "id": "e473b7b4-771e-4b6d-b563-67bd436873ae",
   "metadata": {},
   "source": [
    "### ***Generator Expression:***"
   ]
  },
  {
   "cell_type": "markdown",
   "id": "c5916c48-ae11-431a-ae65-f2bb27864876",
   "metadata": {},
   "source": [
    "```\n",
    "==> If your logic is simple and can able to write it in single line then (we use) or (we go for) generator expression\n",
    "```"
   ]
  },
  {
   "cell_type": "code",
   "execution_count": 14,
   "id": "41c733de-dd88-485b-9e37-e9ecef6c5231",
   "metadata": {},
   "outputs": [
    {
     "name": "stdout",
     "output_type": "stream",
     "text": [
      "[1, 4, 9, 16, 25, 36, 49, 64, 81, 100, 121, 144, 169, 196, 225, 256, 289, 324, 361, 400, 441, 484, 529, 576, 625, 676, 729, 784, 841, 900, 961, 1024, 1089, 1156, 1225, 1296, 1369, 1444, 1521, 1600, 1681, 1764, 1849, 1936, 2025, 2116, 2209, 2304, 2401, 2500, 2601, 2704, 2809, 2916, 3025, 3136, 3249, 3364, 3481, 3600, 3721, 3844, 3969, 4096, 4225, 4356, 4489, 4624, 4761, 4900, 5041, 5184, 5329, 5476, 5625, 5776, 5929, 6084, 6241, 6400, 6561, 6724, 6889, 7056, 7225, 7396, 7569, 7744, 7921, 8100, 8281, 8464, 8649, 8836, 9025, 9216, 9409, 9604, 9801, 10000]\n"
     ]
    }
   ],
   "source": [
    "l = [i**2 for i in range(1, 101)]\n",
    "print(l)"
   ]
  },
  {
   "cell_type": "code",
   "execution_count": 16,
   "id": "19c1ddc9-f526-4ed0-ae4c-e4ac34bd0cae",
   "metadata": {},
   "outputs": [
    {
     "name": "stdout",
     "output_type": "stream",
     "text": [
      "1 4 9 16 25 36 49 64 81 100 121 144 169 196 225 256 289 324 361 400 441 484 529 576 625 676 729 784 841 900 961 1024 1089 1156 1225 1296 1369 1444 1521 1600 1681 1764 1849 1936 2025 2116 2209 2304 2401 2500 2601 2704 2809 2916 3025 3136 3249 3364 3481 3600 3721 3844 3969 4096 4225 4356 4489 4624 4761 4900 5041 5184 5329 5476 5625 5776 5929 6084 6241 6400 6561 6724 6889 7056 7225 7396 7569 7744 7921 8100 8281 8464 8649 8836 9025 9216 9409 9604 9801 10000 "
     ]
    }
   ],
   "source": [
    "gen = (i**2 for i in range(1, 101))\n",
    "\n",
    "for i in gen:\n",
    "    print(i, end=\" \")"
   ]
  },
  {
   "cell_type": "markdown",
   "id": "39bdef61-3eac-4dfa-b253-d53911e295d3",
   "metadata": {},
   "source": [
    "```python\n",
    "practical example:\n",
    "------------------\n",
    "\n",
    "import os\n",
    "import cv2\n",
    "\n",
    "def image_data_reader(folder_path):\n",
    "\t\n",
    "\tfor file in os.listdir(folder_path):\n",
    "\t\tf_array = cv2.imread(os.parh.join(folder_path, file))\n",
    "\t\tyield f_array\n",
    "\n",
    "gen = image_data_reader(\"path\")\n",
    "\n",
    "print(next(gen))\n",
    "print(next(gen))\n",
    "print(next(gen))\n",
    "```"
   ]
  },
  {
   "cell_type": "markdown",
   "id": "9175c584-f6db-4fa4-9b52-90d55e0abdc2",
   "metadata": {},
   "source": [
    "### ***Benefits of generator:***"
   ]
  },
  {
   "cell_type": "markdown",
   "id": "71479497-5c83-4c0f-a69c-30da032390dd",
   "metadata": {},
   "source": [
    "```\n",
    "(1) ease of implementation\n",
    "```"
   ]
  },
  {
   "cell_type": "code",
   "execution_count": 18,
   "id": "19be4dae-9358-41ac-b18e-8e408d6cc0cf",
   "metadata": {},
   "outputs": [
    {
     "name": "stdout",
     "output_type": "stream",
     "text": [
      "15 16 17 18 19 20 21 22 23 24 25 "
     ]
    }
   ],
   "source": [
    "def my_range(start, end):\n",
    "\n",
    "\tfor i in range(start, end):\n",
    "\t\tyield i\n",
    "\n",
    "gen = my_range(15, 26)\n",
    "\n",
    "for i in gen:\n",
    "\tprint(i, end=\" \")"
   ]
  },
  {
   "cell_type": "markdown",
   "id": "eb21740f-fdd2-4b6a-8107-452c448e5f9c",
   "metadata": {},
   "source": [
    "```\n",
    "(2) memory efficient\n",
    "```"
   ]
  },
  {
   "cell_type": "code",
   "execution_count": 19,
   "id": "5ea86042-650b-47dc-8016-936a12e338ad",
   "metadata": {},
   "outputs": [
    {
     "name": "stdout",
     "output_type": "stream",
     "text": [
      "size of l in memory:  920\n",
      "size of gen in memory: 208\n"
     ]
    }
   ],
   "source": [
    "l = [i**2 for i in range(1, 101)]\n",
    "gen = (i**2 for i in range(1, 101))\n",
    "\n",
    "import sys\n",
    "\n",
    "print(\"size of l in memory: \", sys.getsizeof(l))\n",
    "print(\"size of gen in memory:\", sys.getsizeof(gen))"
   ]
  },
  {
   "cell_type": "markdown",
   "id": "b99c98d4-c966-4028-bfce-6a979e5fc3a3",
   "metadata": {},
   "source": [
    "```\n",
    "(3) Representing infinite streams\n",
    "```"
   ]
  },
  {
   "cell_type": "code",
   "execution_count": 20,
   "id": "b5aa45f5-96ff-489a-87e1-3c736b8d6714",
   "metadata": {},
   "outputs": [
    {
     "name": "stdout",
     "output_type": "stream",
     "text": [
      "0\n",
      "2\n"
     ]
    }
   ],
   "source": [
    "def all_even():\n",
    "    n = 0\n",
    "    while True:\n",
    "        yield n\n",
    "        n += 2\n",
    "\n",
    "even_num_gen = all_even()\n",
    "print(next(even_num_gen))\n",
    "print(next(even_num_gen))"
   ]
  },
  {
   "cell_type": "code",
   "execution_count": 21,
   "id": "f23df644-3390-4f76-b441-f225b264b934",
   "metadata": {},
   "outputs": [
    {
     "name": "stdout",
     "output_type": "stream",
     "text": [
      "4\n",
      "6\n"
     ]
    }
   ],
   "source": [
    "print(next(even_num_gen))\n",
    "print(next(even_num_gen))"
   ]
  },
  {
   "cell_type": "markdown",
   "id": "0839bcfe-ecde-4e70-9730-01f57429f02d",
   "metadata": {},
   "source": [
    "```\n",
    "(4) Chaining generators\n",
    "```"
   ]
  },
  {
   "cell_type": "code",
   "execution_count": 22,
   "id": "40ea6225-3382-4b68-84ae-15aa068f0939",
   "metadata": {},
   "outputs": [
    {
     "name": "stdout",
     "output_type": "stream",
     "text": [
      "4895\n"
     ]
    }
   ],
   "source": [
    "def fibonacci_numbers(nums):\n",
    "    x, y = 0, 1\n",
    "    for _ in range(nums):\n",
    "        x, y = y, x+y\n",
    "        yield x\n",
    "\n",
    "\n",
    "def square(nums):\n",
    "    for num in nums:\n",
    "        yield num**2\n",
    "\n",
    "print(sum(square(fibonacci_numbers(10))))"
   ]
  },
  {
   "cell_type": "code",
   "execution_count": null,
   "id": "ca1557a5-9541-4d78-aab0-7ac9599d3f07",
   "metadata": {},
   "outputs": [],
   "source": []
  }
 ],
 "metadata": {
  "kernelspec": {
   "display_name": "Python 3 (ipykernel)",
   "language": "python",
   "name": "python3"
  },
  "language_info": {
   "codemirror_mode": {
    "name": "ipython",
    "version": 3
   },
   "file_extension": ".py",
   "mimetype": "text/x-python",
   "name": "python",
   "nbconvert_exporter": "python",
   "pygments_lexer": "ipython3",
   "version": "3.11.7"
  }
 },
 "nbformat": 4,
 "nbformat_minor": 5
}
